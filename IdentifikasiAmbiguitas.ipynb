{
 "cells": [
  {
   "cell_type": "markdown",
   "metadata": {},
   "source": [
    "# <center> PROSES ANOTASI KORPUS </center>"
   ]
  },
  {
   "cell_type": "markdown",
   "metadata": {},
   "source": [
    "## 1. Import Library NLTK & CSV"
   ]
  },
  {
   "cell_type": "code",
   "execution_count": 2,
   "metadata": {},
   "outputs": [],
   "source": [
    "import nltk\n",
    "import csv"
   ]
  },
  {
   "cell_type": "markdown",
   "metadata": {},
   "source": [
    "## 2. Proses Membaca Korpus"
   ]
  },
  {
   "cell_type": "code",
   "execution_count": 3,
   "metadata": {},
   "outputs": [],
   "source": [
    "def open_file(nameFile):\n",
    "    all_korpus = []\n",
    "    korpus = open(nameFile, encoding=\"utf-8\")\n",
    "    data_korpus = korpus.readlines()\n",
    "    for i in range(len(data_korpus)):\n",
    "        all_korpus.append(data_korpus[i])\n",
    "    korpus.close()\n",
    "    return all_korpus"
   ]
  },
  {
   "cell_type": "code",
   "execution_count": 4,
   "metadata": {},
   "outputs": [
    {
     "name": "stdout",
     "output_type": "stream",
     "text": [
      "['administrator sistem dan anggota staf keperawatan harus dapat menambahkan daftar siswa ke dalam kategori\\n', 'administrator sistem dan anggota staf keperawatan harus dapat menambahkan satu siswa ke dalam kategori\\n', 'Menambahkan siswa ke dalam kategori harus menjadi syarat untuk sistem kategori studi.\\n', 'administrator sistem dan anggota staf keperawatan harus dapat menentukan urutan kelas yang disukai untuk kategori tertentu.\\n']\n"
     ]
    }
   ],
   "source": [
    "korpus=open_file('619 data korpus.txt')\n",
    "print(korpus[0:4])"
   ]
  },
  {
   "cell_type": "markdown",
   "metadata": {},
   "source": [
    "## 3. Tokenisasi"
   ]
  },
  {
   "cell_type": "code",
   "execution_count": 5,
   "metadata": {},
   "outputs": [
    {
     "name": "stdout",
     "output_type": "stream",
     "text": [
      "[['administrator', 'sistem', 'dan', 'anggota', 'staf', 'keperawatan', 'harus', 'dapat', 'menambahkan', 'daftar', 'siswa', 'ke', 'dalam', 'kategori'], ['administrator', 'sistem', 'dan', 'anggota', 'staf', 'keperawatan', 'harus', 'dapat', 'menambahkan', 'satu', 'siswa', 'ke', 'dalam', 'kategori']]\n"
     ]
    }
   ],
   "source": [
    "tokenize = []\n",
    "for reqs in korpus:\n",
    "    tokenize.append(nltk.word_tokenize(reqs))\n",
    "print(tokenize[0:2])"
   ]
  },
  {
   "cell_type": "markdown",
   "metadata": {},
   "source": [
    "## 4. Pemberian Tag"
   ]
  },
  {
   "cell_type": "markdown",
   "metadata": {},
   "source": [
    "### a. Set Model dengan Tagset Fam Rashel"
   ]
  },
  {
   "cell_type": "code",
   "execution_count": 6,
   "metadata": {},
   "outputs": [],
   "source": [
    "from nltk.tag import CRFTagger\n",
    "ct = CRFTagger()\n",
    "ct.set_model_file('all_indo_man_tag_corpus_model.crf.tagger')"
   ]
  },
  {
   "cell_type": "markdown",
   "metadata": {},
   "source": [
    "### b. Tagging"
   ]
  },
  {
   "cell_type": "code",
   "execution_count": 7,
   "metadata": {},
   "outputs": [
    {
     "name": "stdout",
     "output_type": "stream",
     "text": [
      "[[('administrator', 'NN'), ('sistem', 'NN'), ('dan', 'CC'), ('anggota', 'NN'), ('staf', 'NN'), ('keperawatan', 'NN'), ('harus', 'MD'), ('dapat', 'MD'), ('menambahkan', 'VB'), ('daftar', 'NN'), ('siswa', 'NN'), ('ke', 'IN'), ('dalam', 'NN'), ('kategori', 'NN')], [('administrator', 'NN'), ('sistem', 'NN'), ('dan', 'CC'), ('anggota', 'NN'), ('staf', 'NN'), ('keperawatan', 'NN'), ('harus', 'MD'), ('dapat', 'MD'), ('menambahkan', 'VB'), ('satu', 'CD'), ('siswa', 'NN'), ('ke', 'IN'), ('dalam', 'NN'), ('kategori', 'NN')]]\n"
     ]
    }
   ],
   "source": [
    "postag=[]\n",
    "for reqs in tokenize:\n",
    "    tagging = ct.tag_sents([reqs])\n",
    "    postag+=tagging\n",
    "print(postag[0:2])"
   ]
  },
  {
   "cell_type": "markdown",
   "metadata": {},
   "source": [
    "### c. Pemisahan Daftar Pernyataan Kebutuhan Perangkat Lunak dan Daftar Tag"
   ]
  },
  {
   "cell_type": "code",
   "execution_count": 8,
   "metadata": {},
   "outputs": [],
   "source": [
    "requirements =[]\n",
    "taggings = []\n",
    "for i in range(len(postag)):\n",
    "    reqs = [req[0] for req in postag[i]]\n",
    "    tags = [tag[1] for tag in postag[i]]\n",
    "    requirements.append(reqs)\n",
    "    taggings.append(tags)"
   ]
  },
  {
   "cell_type": "code",
   "execution_count": 9,
   "metadata": {},
   "outputs": [
    {
     "name": "stdout",
     "output_type": "stream",
     "text": [
      "Jumlah Kata:  11391\n",
      "Jumlah Tag:  11391\n"
     ]
    }
   ],
   "source": [
    "counterTags=0\n",
    "counterWords=0\n",
    "for reqs in requirements:\n",
    "    for req in reqs:\n",
    "        counterWords+=1\n",
    "for tags in taggings:\n",
    "    for tag in tags:\n",
    "        counterTags+=1\n",
    "print(\"Jumlah Kata: \",counterWords)\n",
    "print(\"Jumlah Tag: \",counterTags)"
   ]
  },
  {
   "cell_type": "markdown",
   "metadata": {},
   "source": [
    "## 5. Transformasi Data Hasil Tag ke Dokumen"
   ]
  },
  {
   "cell_type": "code",
   "execution_count": 10,
   "metadata": {},
   "outputs": [],
   "source": [
    "with open(\"Hasil Tag\\Tag Korpus Anotasi.txt\",\"w+\",encoding='utf-8') as file: \n",
    "    for i in range(len(requirements)):\n",
    "        file.write(\"<kalimat id=\"+str(i)+\">\"+\"\\n\")\n",
    "        for j in range(len(requirements[i])):\n",
    "            file.write(requirements[i][j]+\"\\t\"+taggings[i][j])\n",
    "            file.write(\"\\n\")\n",
    "        file.write(\"</kalimat id=\"+str(i)+\">\"+\"\\n\")\n",
    "file.close()"
   ]
  },
  {
   "cell_type": "markdown",
   "metadata": {},
   "source": [
    "# <center> PRAPROSES DAN POS-TAGGING HMM-VITERBI </center>"
   ]
  },
  {
   "cell_type": "markdown",
   "metadata": {},
   "source": [
    "## 1. Import Library NLTK & String"
   ]
  },
  {
   "cell_type": "code",
   "execution_count": 11,
   "metadata": {
    "tags": []
   },
   "outputs": [],
   "source": [
    "import nltk\n",
    "import string"
   ]
  },
  {
   "cell_type": "markdown",
   "metadata": {
    "tags": []
   },
   "source": [
    "## 2. Import Pernyataan Kebutuhan"
   ]
  },
  {
   "cell_type": "code",
   "execution_count": 12,
   "metadata": {},
   "outputs": [
    {
     "name": "stdin",
     "output_type": "stream",
     "text": [
      " Sistem Informasi Ibadah Haji\n"
     ]
    },
    {
     "name": "stdout",
     "output_type": "stream",
     "text": [
      "Requirements/Sistem Informasi Ibadah Haji.txt\n"
     ]
    }
   ],
   "source": [
    "inputname = input()\n",
    "nameFile = \"Requirements/\"+inputname+\".txt\"\n",
    "print(nameFile)"
   ]
  },
  {
   "cell_type": "markdown",
   "metadata": {},
   "source": [
    "## 3. Sentence Splitting"
   ]
  },
  {
   "cell_type": "code",
   "execution_count": 3,
   "metadata": {},
   "outputs": [],
   "source": [
    "def openFile(nameFile):\n",
    "    all_req = []\n",
    "    req = open(nameFile, encoding=\"utf-8\")\n",
    "    data_req = req.readlines()\n",
    "    for i in range(len(data_req)):\n",
    "        all_req.append(data_req[i])\n",
    "    req.close()\n",
    "    return all_req"
   ]
  },
  {
   "cell_type": "code",
   "execution_count": 4,
   "metadata": {},
   "outputs": [],
   "source": [
    "all_req = openFile(nameFile)"
   ]
  },
  {
   "cell_type": "markdown",
   "metadata": {},
   "source": [
    "## 3. Tokenisasi"
   ]
  },
  {
   "cell_type": "code",
   "execution_count": 5,
   "metadata": {},
   "outputs": [],
   "source": [
    "tokenizationpreProcess = []\n",
    "for token in all_req:\n",
    "    tokenizationpreProcess.append(nltk.word_tokenize(token))"
   ]
  },
  {
   "cell_type": "markdown",
   "metadata": {},
   "source": [
    "## 4. Remove Punctuation"
   ]
  },
  {
   "cell_type": "code",
   "execution_count": 6,
   "metadata": {},
   "outputs": [
    {
     "name": "stdout",
     "output_type": "stream",
     "text": [
      "[['Sistem', 'diharapkan', 'dapat', 'memberikan', 'kemudahan', 'dan', 'kenyamanan', 'kepada', 'aparat', 'kelurahan', 'dalam', 'melayanani', 'publik'], ['Sistem', 'diharapkan', 'dapat', 'mempercepat', 'proses', 'pelayanan', 'publik', 'di', 'kelurahan'], ['Meningkatkan', 'mutu', 'pelayanan', 'di', 'kelurahan', 'sesuai', 'dengan', 'peraturan', 'pemerintah'], ['Memberikan', 'informasi', 'mengenai', 'data', 'penduduk', 'yang', 'up', 'to', 'date'], ['Perangkat', 'Lunak', 'dirancang', 'dengan', 'antarmuka', 'bahasa', 'Indonesia', 'yang', 'mudah', 'dipahami'], ['Perangkat', 'lunak', 'berupa', 'aplikasi', 'web', ',', 'antarmuka', 'tampilan', 'dirancang', 'seminimalis', 'mungkin', ',', 'tidak', 'terlalu', 'banyak', 'tombol', ',', 'dan', 'mewakili', 'warna', 'yang', 'menarik', 'dan', 'cerah'], ['Pada', 'setiap', 'form', 'isian', '(', 'dalam', 'aplikasi', ')', 'diberikan', 'menu', 'bantuan', 'atau', 'contoh', 'pengisian', 'yang', 'sesuai', 'dengan', 'isian', 'yang', 'harus', 'dimasukkan'], ['tombol-tombol', 'diutamakan', 'menggunakan', 'ikon-ikon', 'atau', 'perintah', 'yang', 'sesuai', 'dengan', 'fungsi', 'tombol', 'dan', 'mudah', 'dipahami'], ['Pada', 'isian', 'form', 'yang', 'wajib', 'diisi', 'diberikan', 'tanda', '*', 'dengan', 'warna', 'merah'], ['Sebelum', 'dan', 'sesudah', 'data', 'disimpan', 'diperlukan', 'konfirmasi'], ['Aplikasi', 'database', 'dirancang', 'untuk', 'satu', 'data', 'per', 'satu', 'penduduk', '(', 'tidak', 'boleh', 'ada', 'penggandaan', 'data', ')'], ['Aplikasi', 'pencetakan', 'mempunyai', 'pilihan', 'cetak', 'untuk', 'laporan', ',', 'surat', 'pengantar', ',', 'dan', 'resi', 'atau', 'tanda', 'terima'], ['Aplikasi', 'dapat', 'ditambahi', 'dengan', 'fasilitas', 'link', 'untuk', 'email', 'dan', 'chat'], ['Sistem', 'dibangun', 'dengan', 'model', 'client-server', 'dan', 'web', 'application'], ['Sistem', 'dibangun', 'dengan', 'multiple', 'login'], ['Sistem', 'dapat', 'diintegrasikan', 'dengan', 'jaringan', 'komputer', 'lain'], ['Database', 'dirancang', 'dapat', 'diintegrasikan', 'dengan', 'sistem', 'aplikasi', 'lain', ',', 'misalnya', 'aplikasi', 'SIMDUK', 'untuk', 'tingkat', 'kecamatan'], ['Bahasa', 'Pemrograman', 'script', 'PHP', ',', 'untuk', 'basis', 'data', 'digunakan', 'MySQL', ',', 'sedangkan', 'web', 'server', 'yang', 'digunakan', 'adalah', 'AppServ', '2.2'], ['Sistem', 'bisa', 'menampilkan', 'informasi', 'tentang', 'data', 'penduduk', 'secara', 'lengkap'], ['Sistem', 'dapat', 'melakukan', 'pencarian', 'data', 'penduduk', 'secara', 'cepat', 'dan', 'akurat', 'berdasarkan', 'kriteria', 'tertentu'], ['Sistem', 'dapat', 'menampilkan', 'form', 'misalnya', 'dalam', 'pengurusan', 'KTP', 'di', 'kelurahan'], ['Pada', 'sistem', 'informasi', 'ini', 'untuk', 'pengurusan', 'KTP', 'dapat', 'dipisahkan', 'berdasarkan', 'kriteria', 'yaitu', 'Pembuatan', 'KTP', 'baru', ',', 'Pembuatan', 'KTP', 'Perpanjangan', ',', 'Pembuatan', 'KTP', 'Hilang', 'atau', 'Rusak', ',', 'dan', 'Pembuatan', 'KTP', 'Perubahan', 'Data'], ['Sistem', 'digunakan', 'oleh', 'aparat', 'kelurahan', 'dengan', 'fasilitas', 'login', 'hanya', 'pada', 'petugas', 'atau', 'user', 'yang', 'berwenang'], ['Sistem', 'dapat', 'melakukan', 'otentifikasi', 'dan', 'otoritas', 'untuk', 'user'], ['Sistem', 'ini', 'dapat', 'memberikan', 'dan', 'mencetak', 'laporan', 'misalnya', 'dalam', 'pengurusan', 'KTP', 'di', 'kelurahan'], ['Sistem', 'ini', 'dapat', 'mencetak', 'resi', 'atau', 'tanda', 'terima', 'dan', 'surat', 'pengantar', 'dari', 'kelurahan'], ['Sistem', 'ini', 'dapat', 'diintegrasikan', 'dengan', 'sistem', 'kependudukan', 'yang', 'ada', 'di', 'kecamatan'], ['Fungsi', 'Menu', 'Utama', 'untuk', 'melihat', 'keseluruhan', 'menu', 'layanan', 'yang', 'ada', 'pada', 'sistem', 'informasi', ',', 'menu', 'admin', ',', 'menu', 'registrasi', ',', 'menu', 'keluar', 'dan', 'deskripsi', 'singkat', 'serta', 'informasi', 'mengenai', 'kelurahan', 'Fungsi', 'ini', 'membatasi', 'hanya', 'pengguna', 'yang', 'bersangkutan', 'yang', 'dapat', 'mengakses', 'sistem'], ['Terdapat', 'dua', 'modul', 'menu', 'utama', 'yaitu', 'modul', 'menu', 'utama', 'untuk', 'user', 'dan', 'modul', 'menu', 'utama', 'untuk', 'admin'], ['Fungsi', 'Formulir', 'Pendaftaran', 'untuk', 'menginputkan', 'biodata', 'penduduk'], ['Fungsi', 'Lihat', 'Data', 'Penduduk', 'akan', 'menampilkan', 'data-data', 'penduduk', 'yang', 'terdaftar', 'di', 'kelurahan'], ['Fungsi', 'Cari', 'Data', 'Penduduk', 'untuk', 'mencari', 'data', 'penduduk', 'berdasarkan', 'kriteria', 'pencarian', 'yang', 'diinputkan', 'oleh', 'user'], ['Funsgi', 'Cetak', 'Resi/Laporan', 'untuk', 'menampilkan', 'form', 'cetak', 'laporan', ',', 'cetak', 'surat', 'pengantar', 'keurahan', 'dan', 'cetak', 'resi/tanda', 'terima'], ['Fungsi', 'Registrasi', 'User', 'untuk', 'menginputkan', 'data', 'petugas', 'atau', 'user', 'yang', 'akan', 'menggunakan', 'sistem', 'informasi', 'username', 'dan', 'password', 'akan', 'diinputkan', 'pada', 'fungsi', 'ini', 'yang', 'nantinya', 'akan', 'dipakai', 'oleh', 'user', 'untuk', 'login', 'atau', 'masuk', 'pada', 'sistem', 'informasi'], ['Fungsi', 'Login', 'berfungsi', 'untuk', 'membatasi', 'hanya', 'pengguna', 'yang', 'bersangkutan', 'yang', 'dapat', 'mengakses', 'sistem', 'sesuai', 'dengan', 'perang', 'masing-masing', 'Pengguna', 'yang', 'tidak', 'bersangkutan', 'akan', 'ditolak', 'Jika', 'salah', 'memasukkan', 'login', 'maka', 'akan', 'disampaikan', 'pesan', 'kesalahannya', 'Pada', 'sistem', 'informasi', 'ini', ',', 'terdapat', 'dua', 'data', 'login', 'yaitu', 'login', 'untuk', 'user', 'dan', 'login', 'untuk', 'administrator'], ['Fungsi', 'Administrator', 'Sistem', 'Administrator', 'sistem', 'mempunyai', 'hak', 'akses', 'terhadap', 'keseluruhan', 'tabel-tabel', 'dalam', 'basis', 'data', 'Bertanggung', 'jawab', 'atas', 'kelancaran', 'keseluruhan', 'sistem', 'Hak-hak', 'yang', 'dimiliki', 'oleh', 'administrator', 'sistem', 'adalah', 'sebagai', 'berikut', 'melihat', 'dan', 'mengatur', 'keseluruhan', 'data', 'dalam', 'basis', 'data', ',', 'memberikan', 'hak', 'akses', 'kepada', 'seseorang', 'sesuai', 'dengan', 'tugasnya', 'masing-masing', 'dengan', 'memberikan', 'username', 'dan', 'password', 'kepada', 'orang', 'tersebut', ',', 'menghapus', 'data-data', 'yang', 'tidak', 'benar', ',', 'atau', 'tidak', 'jelas', 'asal-usulnya'], ['Fungsi', 'Cari', 'Data', 'Penduduk', 'mencari', 'data', 'penduduk', 'yang', 'telah', 'terdaftar', 'di', 'kelurahan', 'berdasarkan', 'kriteria', 'tertentu'], ['Fungsi', 'Keluar', '/', 'Logout', 'untuk', 'keluar', 'dari', 'sistem']]\n"
     ]
    }
   ],
   "source": [
    "tokenization = []\n",
    "punct = ['.','!','?',':']\n",
    "for requirements in tokenizationpreProcess:\n",
    "    tokenizationKalimat1=[req for req in requirements if req not in punct]\n",
    "    tokenization.append(tokenizationKalimat1)\n",
    "print(tokenization)"
   ]
  },
  {
   "cell_type": "markdown",
   "metadata": {},
   "source": [
    "## Karakteristik Dataset (opsional)"
   ]
  },
  {
   "cell_type": "code",
   "execution_count": 7,
   "metadata": {},
   "outputs": [],
   "source": [
    "def bagofWords(req, wordCount):\n",
    "    if req in wordCount:\n",
    "        wordCount[req] += 1\n",
    "    else:\n",
    "        wordCount[req] = 1\n",
    "    return wordCount"
   ]
  },
  {
   "cell_type": "code",
   "execution_count": 8,
   "metadata": {},
   "outputs": [
    {
     "name": "stdout",
     "output_type": "stream",
     "text": [
      "{'Sistem': 14, 'diharapkan': 2, 'dapat': 14, 'memberikan': 4, 'kemudahan': 1, 'dan': 20, 'kenyamanan': 1, 'kepada': 3, 'aparat': 2, 'kelurahan': 10, 'dalam': 6, 'melayanani': 1, 'publik': 2, 'mempercepat': 1, 'proses': 1, 'pelayanan': 2, 'di': 7, 'Meningkatkan': 1, 'mutu': 1, 'sesuai': 5, 'dengan': 15, 'peraturan': 1, 'pemerintah': 1, 'Memberikan': 1, 'informasi': 8, 'mengenai': 2, 'data': 14, 'penduduk': 8, 'yang': 23, 'up': 1, 'to': 1, 'date': 1, 'Perangkat': 2, 'Lunak': 1, 'dirancang': 4, 'antarmuka': 2, 'bahasa': 1, 'Indonesia': 1, 'mudah': 2, 'dipahami': 2, 'lunak': 1, 'berupa': 1, 'aplikasi': 4, 'web': 3, ',': 19, 'tampilan': 1, 'seminimalis': 1, 'mungkin': 1, 'tidak': 5, 'terlalu': 1, 'banyak': 1, 'tombol': 2, 'mewakili': 1, 'warna': 2, 'menarik': 1, 'cerah': 1, 'Pada': 4, 'setiap': 1, 'form': 4, 'isian': 3, '(': 2, ')': 2, 'diberikan': 2, 'menu': 8, 'bantuan': 1, 'atau': 9, 'contoh': 1, 'pengisian': 1, 'harus': 1, 'dimasukkan': 1, 'tombol-tombol': 1, 'diutamakan': 1, 'menggunakan': 2, 'ikon-ikon': 1, 'perintah': 1, 'fungsi': 2, 'wajib': 1, 'diisi': 1, 'tanda': 3, '*': 1, 'merah': 1, 'Sebelum': 1, 'sesudah': 1, 'disimpan': 1, 'diperlukan': 1, 'konfirmasi': 1, 'Aplikasi': 3, 'database': 1, 'untuk': 19, 'satu': 2, 'per': 1, 'boleh': 1, 'ada': 3, 'penggandaan': 1, 'pencetakan': 1, 'mempunyai': 2, 'pilihan': 1, 'cetak': 4, 'laporan': 3, 'surat': 3, 'pengantar': 3, 'resi': 2, 'terima': 3, 'ditambahi': 1, 'fasilitas': 2, 'link': 1, 'email': 1, 'chat': 1, 'dibangun': 2, 'model': 1, 'client-server': 1, 'application': 1, 'multiple': 1, 'login': 7, 'diintegrasikan': 3, 'jaringan': 1, 'komputer': 1, 'lain': 2, 'Database': 1, 'sistem': 13, 'misalnya': 3, 'SIMDUK': 1, 'tingkat': 1, 'kecamatan': 2, 'Bahasa': 1, 'Pemrograman': 1, 'script': 1, 'PHP': 1, 'basis': 3, 'digunakan': 3, 'MySQL': 1, 'sedangkan': 1, 'server': 1, 'adalah': 2, 'AppServ': 1, '2.2': 1, 'bisa': 1, 'menampilkan': 4, 'tentang': 1, 'secara': 2, 'lengkap': 1, 'melakukan': 2, 'pencarian': 2, 'cepat': 1, 'akurat': 1, 'berdasarkan': 4, 'kriteria': 4, 'tertentu': 2, 'pengurusan': 3, 'KTP': 7, 'ini': 7, 'dipisahkan': 1, 'yaitu': 3, 'Pembuatan': 4, 'baru': 1, 'Perpanjangan': 1, 'Hilang': 1, 'Rusak': 1, 'Perubahan': 1, 'Data': 4, 'oleh': 4, 'hanya': 3, 'pada': 4, 'petugas': 2, 'user': 7, 'berwenang': 1, 'otentifikasi': 1, 'otoritas': 1, 'mencetak': 2, 'dari': 2, 'kependudukan': 1, 'Fungsi': 10, 'Menu': 1, 'Utama': 1, 'melihat': 2, 'keseluruhan': 4, 'layanan': 1, 'admin': 2, 'registrasi': 1, 'keluar': 2, 'deskripsi': 1, 'singkat': 1, 'serta': 1, 'membatasi': 2, 'pengguna': 2, 'bersangkutan': 3, 'mengakses': 2, 'Terdapat': 1, 'dua': 2, 'modul': 3, 'utama': 3, 'Formulir': 1, 'Pendaftaran': 1, 'menginputkan': 2, 'biodata': 1, 'Lihat': 1, 'Penduduk': 3, 'akan': 6, 'data-data': 2, 'terdaftar': 2, 'Cari': 2, 'mencari': 2, 'diinputkan': 2, 'Funsgi': 1, 'Cetak': 1, 'Resi/Laporan': 1, 'keurahan': 1, 'resi/tanda': 1, 'Registrasi': 1, 'User': 1, 'username': 2, 'password': 2, 'nantinya': 1, 'dipakai': 1, 'masuk': 1, 'Login': 1, 'berfungsi': 1, 'perang': 1, 'masing-masing': 2, 'Pengguna': 1, 'ditolak': 1, 'Jika': 1, 'salah': 1, 'memasukkan': 1, 'maka': 1, 'disampaikan': 1, 'pesan': 1, 'kesalahannya': 1, 'terdapat': 1, 'administrator': 2, 'Administrator': 2, 'hak': 2, 'akses': 2, 'terhadap': 1, 'tabel-tabel': 1, 'Bertanggung': 1, 'jawab': 1, 'atas': 1, 'kelancaran': 1, 'Hak-hak': 1, 'dimiliki': 1, 'sebagai': 1, 'berikut': 1, 'mengatur': 1, 'seseorang': 1, 'tugasnya': 1, 'orang': 1, 'tersebut': 1, 'menghapus': 1, 'benar': 1, 'jelas': 1, 'asal-usulnya': 1, 'telah': 1, 'Keluar': 1, '/': 1, 'Logout': 1}\n",
      "629\n"
     ]
    }
   ],
   "source": [
    "wordCount = {}\n",
    "totalWord = 1\n",
    "for reqs in tokenization:\n",
    "    for req in reqs:\n",
    "        bagofWords(req,wordCount)\n",
    "        totalWord +=1\n",
    "print(wordCount)\n",
    "print(totalWord)"
   ]
  },
  {
   "cell_type": "markdown",
   "metadata": {},
   "source": [
    "## 5. POSTAGGING HMM-VITERBI"
   ]
  },
  {
   "cell_type": "code",
   "execution_count": 9,
   "metadata": {
    "jupyter": {
     "source_hidden": true
    },
    "tags": []
   },
   "outputs": [],
   "source": [
    "def frekuensi(korpus):\n",
    "    tagCount = {}\n",
    "    tagCount['<start>'] = 0\n",
    "    wordTag={}\n",
    "    tagTrans={}\n",
    "    idxLine=0\n",
    "    firstWord=0\n",
    "    \n",
    "    while idxLine < len(korpus):\n",
    "        prevTag = '<start>'\n",
    "        while not korpus[idxLine].startswith('</kalimat'):\n",
    "            if not korpus[idxLine].startswith('<kalimat'):\n",
    "                korpusPart = korpus[idxLine].split('\\t')\n",
    "                if korpusPart[1] in tagCount:\n",
    "                    tagCount[korpusPart[1]] += 1\n",
    "                else:\n",
    "                    tagCount[korpusPart[1]] = 1\n",
    "                    \n",
    "                if(korpusPart[0],korpusPart[1]) in wordTag:\n",
    "                    wordTag[(korpusPart[0], korpusPart[1])] +=1\n",
    "                else:\n",
    "                    wordTag[(korpusPart[0],korpusPart[1])] = 1\n",
    "                \n",
    "                if firstWord == 1:\n",
    "                    currentTagTrans=('<start>',korpusPart[1])\n",
    "                    firstWord = 0\n",
    "                else:\n",
    "                    currentTagTrans=(prevTag,korpusPart[1])\n",
    "                \n",
    "                if currentTagTrans in tagTrans:\n",
    "                    tagTrans[currentTagTrans] += 1\n",
    "                else:\n",
    "                    tagTrans[currentTagTrans] = 1\n",
    "                prevTag = korpusPart[1]\n",
    "            \n",
    "            else:\n",
    "                tagCount['<start>'] += 1\n",
    "                firstWord = 1\n",
    "            \n",
    "            idxLine = idxLine+1\n",
    "        \n",
    "        idxLine = idxLine + 1\n",
    "        \n",
    "    return tagCount, wordTag, tagTrans"
   ]
  },
  {
   "cell_type": "code",
   "execution_count": 10,
   "metadata": {},
   "outputs": [],
   "source": [
    "def dictProbTransition(tagTrans, tagCount):\n",
    "    probabilityTrans = {}\n",
    "    keys = tagTrans.keys()\n",
    "    for tag in keys:\n",
    "        if (tag[0], tag[1]) in tagTrans:\n",
    "            probabilityTrans[(tag[0],tag[1])] = tagTrans[(tag[0], tag[1])]/tagCount[tag[0]]\n",
    "    return probabilityTrans"
   ]
  },
  {
   "cell_type": "code",
   "execution_count": 11,
   "metadata": {},
   "outputs": [],
   "source": [
    "def dictProbEmission(wordTag, tagCount):\n",
    "    probabilityEmission = {}\n",
    "    wordKey = []\n",
    "    keys = wordTag.keys()\n",
    "    for part in keys:\n",
    "        if((part[0],part[1])) in wordTag:\n",
    "            probabilityEmission[(part[0],part[1])] = wordTag[(part[0],part[1])]/tagCount[(part[1])]\n",
    "    return probabilityEmission"
   ]
  },
  {
   "cell_type": "code",
   "execution_count": 12,
   "metadata": {},
   "outputs": [
    {
     "name": "stdout",
     "output_type": "stream",
     "text": [
      "{('administrator', 'NN'): 30, ('sistem', 'NN'): 120, ('dan', 'CC'): 247, ('anggota', 'NN'): 34, ('staf', 'NN'): 26, ('keperawatan', 'NN'): 29, ('harus', 'MD'): 427, ('dapat', 'MD'): 127, ('menambahkan', 'VB'): 13, ('daftar', 'NN'): 19, ('siswa', 'NN'): 14, ('ke', 'IN'): 71, ('dalam', 'NN'): 15, ('kategori', 'NN'): 18, ('satu', 'CD'): 26, ('Menambahkan', 'VB'): 1, ('menjadi', 'VB'): 12, ('syarat', 'NN'): 1, ('untuk', 'SC'): 199, ('studi', 'NN'): 10, ('.', 'Z'): 696, ('menentukan', 'VB'): 10, ('urutan', 'NN'): 8, ('kelas', 'NN'): 35, ('yang', 'SC'): 324, ('disukai', 'VB'): 17, ('untuk', 'IN'): 41, ('tertentu', 'PR'): 10, ('Untuk', 'SC'): 13, ('masing-masing', 'PRP'): 9, ('kelas', 'VB'): 3, ('dalam', 'IN'): 111, (',', 'Z'): 91, ('kuartal', 'NN'): 3, ('dari', 'IN'): 162, ('akan', 'MD'): 283, ('ditawarkan', 'VB'): 5, ('baru', 'JJ'): 30, ('sudah', 'MD'): 8, ('ada', 'VB'): 29, ('klinis', 'NN'): 35, ('atau', 'CC'): 56, ('bagian', 'NN'): 53, ('pada', 'IN'): 72, ('kelas', 'JJ'): 1, ('diidentifikasi', 'VB'): 1, ('awal', 'NN'): 7, ('bulan', 'NN'): 9, ('tahun', 'NN'): 21, ('departemen', 'NN'): 2, ('Kelas', 'NNP'): 2, ('berupa', 'VB'): 1, ('non-klinis', 'NN'): 3, ('Kelas', 'NN'): 2, ('persyaratan', 'NN'): 8, ('ruang', 'NN'): 12, ('kuliah', 'NN'): 5, ('nama', 'NN'): 14, ('kebutuhan', 'NN'): 4, ('instruktur', 'NN'): 9, ('menetapkan', 'VB'): 2, ('kursus', 'JJ'): 1, ('klinik', 'JJ'): 2, ('lab', 'NN'): 5, ('Administrator', 'NN'): 10, ('/', 'Z'): 36, ('mampu', 'JJ'): 29, ('membuat', 'VB'): 17, ('program', 'NN'): 12, ('Program', 'NN'): 2, ('terdiri', 'VB'): 3, ('diperlukan', 'VB'): 8, ('(', 'Z'): 47, ('baik', 'CC'): 1, (')', 'Z'): 47, ('diselesaikan', 'VB'): 2, ('memiliki', 'VB'): 59, ('kemampuan', 'NN'): 21, ('sebuah', 'NND'): 7, ('Sistem', 'NN'): 104, ('ini', 'PR'): 102, ('menampilkan', 'VB'): 23, ('laporan', 'NN'): 16, ('dibutuhkan', 'VB'): 3, ('jangka', 'NN'): 1, ('waktu', 'NN'): 103, ('diberikan', 'VB'): 9, ('berdasarkan', 'VB'): 16, ('seluruh', 'CD'): 3, ('tujuan', 'NN'): 2, ('perencanaan', 'NN'): 1, ('Laporan', 'NN'): 15, ('namun', 'CC'): 9, ('tidak', 'NEG'): 71, ('terbatas', 'VB'): 3, ('meliputi', 'VB'): 6, ('jumlah', 'NN'): 4, ('laboratorium', 'NN'): 14, ('jenis', 'NN'): 9, ('ruangan', 'NN'): 1, ('bertentangan', 'VB'): 1, ('dengan', 'IN'): 114, ('hari', 'NN'): 31, ('situs', 'NN'): 28, ('informasi', 'NN'): 50, ('terbatas', 'JJ'): 7, ('kontak', 'NN'): 9, ('Bagian', 'NN'): 3, ('mencakup', 'VB'): 11, ('seorang', 'NND'): 6, ('mahasiswa', 'NN'): 16, ('telah', 'MD'): 17, ('terdaftar', 'VB'): 6, ('tersebut', 'PR'): 14, ('memungkinkan', 'VB'): 49, ('menghapus', 'VB'): 8, ('memindahkan', 'VB'): 2, ('lain', 'JJ'): 12, ('sesuai', 'JJ'): 25, ('sama', 'JJ'): 9, ('membatalkan', 'VB'): 3, ('jika', 'SC'): 16, ('hanya', 'RB'): 21, ('Seorang', 'NND'): 5, ('mengelola', 'VB'): 3, ('data', 'NN'): 74, ('kemajuan', 'NN'): 2, ('paruh', 'CD'): 3, ('modifikasi', 'NN'): 4, ('mereka', 'PRP'): 36, ('jadwal', 'NN'): 14, ('ringkasan', 'NN'): 7, ('dicetak', 'VB'): 6, ('penyelesaian', 'NN'): 2, ('tentang', 'IN'): 8, ('diselenggarakan', 'VB'): 1, ('di', 'IN'): 75, ('lokasi', 'NN'): 9, ('selama', 'IN'): 21, ('Informasi', 'NN'): 3, ('umum', 'JJ'): 3, ('diadakan', 'VB'): 2, ('tanggal', 'NN'): 11, ('semua', 'CD'): 39, ('sana', 'PR'): 1, ('nomor', 'NN'): 11, ('ID', 'NN'): 2, ('penerimaan', 'NN'): 2, ('kredit', 'NN'): 9, ('IPK', 'NNP'): 1, ('dimana', 'NN'): 2, ('terdaftar', 'NN'): 5, ('log', 'NN'): 3, ('berisi', 'VB'): 9, ('e-mail', 'NN'): 3, ('telepon', 'NN'): 3, ('orang', 'NN'): 5, ('terkait', 'VB'): 3, ('termasuk', 'VB'): 15, ('menggunakan', 'VB'): 44, ('alamat', 'NN'): 6, ('disimpan', 'VB'): 7, ('sebagai', 'IN'): 23, ('sarana', 'NN'): 1, ('utama', 'JJ'): 4, ('penyebaran', 'NN'): 1, ('kepada', 'IN'): 9, ('pihak', 'NN'): 7, ('bersangkutan', 'VB'): 3, ('memberitahukan', 'VB'): 6, ('keperluan', 'NN'): 3, ('komunikasi', 'NN'): 2, ('rutin', 'NN'): 1, ('menginformasikan', 'VB'): 1, ('datang', 'VB'): 2, ('tiba', 'VB'): 1, ('ketika', 'SC'): 9, ('terjadi', 'VB'): 13, ('perubahan', 'NN'): 17, ('mempengaruhi', 'VB'): 5, ('kapasitas', 'NN'): 1, ('pembatalan', 'NN'): 2, ('terkena', 'VB'): 3, ('dampak', 'NN'): 3, ('rincian', 'NN'): 6, ('penawaran', 'NN'): 1, ('kelompok', 'NN'): 4, ('minggu', 'NN'): 8, ('lab', 'SC'): 1, ('dibatalkan', 'VB'): 1, ('karena', 'SC'): 4, ('sedang', 'MD'): 2, ('sakit', 'JJ'): 1, ('tetapi', 'CC'): 2, ('mengubah', 'VB'): 9, ('status', 'NN'): 16, ('penuh', 'JJ'): 1, ('berbeda', 'VB'): 5, ('berkaitan', 'VB'): 7, ('identitatas', 'NN'): 1, ('perempat', 'NN'): 1, ('bahwa', 'SC'): 23, ('mengambil', 'VB'): 8, ('Program', 'NNP'): 5, ('Studi', 'NNP'): 1, ('Departemen', 'NNP'): 3, ('Keperawatan', 'NNP'): 9, ('Situs', 'NNP'): 21, ('penghubung', 'NN'): 1, ('lab', 'VB'): 1, ('Mahasiswa', 'NNP'): 1, ('penuh', 'VB'): 1, ('Aplikasi', 'NN'): 12, ('Sengketa', 'NNP'): 28, ('mematuhi', 'VB'): 10, ('standar', 'NN'): 13, ('perusahaan', 'NN'): 19, ('pembuatan', 'NN'): 5, ('antarmuka', 'VB'): 15, ('pengguna', 'NN'): 151, ('aplikasi', 'NN'): 28, ('digunakan', 'VB'): 34, ('secara', 'IN'): 24, ('internal', 'JJ'): 6, ('eksternal', 'JJ'): 7, ('Semua', 'CD'): 24, ('layar', 'NN'): 8, ('dibuat', 'VB'): 4, ('sengketa', 'NN'): 53, ('Daftar', 'IN'): 4, ('kasus', 'NN'): 34, ('ditampilkan', 'VB'): 11, ('setelah', 'SC'): 23, ('pencarian', 'NN'): 23, ('dilakukan', 'VB'): 5, ('kode', 'NN'): 11, ('warna', 'NN'): 7, ('memudahkan', 'VB'): 1, ('identifikasi', 'NN'): 1, ('100', 'CD'): 15, ('%', 'SYM'): 75, ('perwakilan', 'NN'): 4, ('pedagang', 'NN'): 15, ('teratur', 'NN'): 2, ('kursus', 'NN'): 3, ('pelatihan', 'NN'): 11, ('2', 'CD'): 32, ('layanan', 'NN'): 11, ('Anggota', 'NN'): 2, ('berhasil', 'VB'): 10, ('pertemuan', 'NN'): 12, ('pertama', 'OD'): 8, ('menyelesaikan', 'VB'): 12, ('melakukan', 'VB'): 15, ('tindak', 'NEG'): 5, ('lanjut', 'VB'): 6, ('atas', 'IN'): 3, ('Waktu', 'SC'): 2, ('tunggu', 'VB'): 1, ('maksimum', 'NN'): 4, ('navigasi', 'NN'): 8, ('layar', 'VB'): 1, ('lebih', 'RB'): 37, ('5', 'CD'): 28, ('detik', 'NN'): 38, ('mendukung', 'VB'): 14, ('350', 'CD'): 1, ('akses', 'NN'): 33, ('bersamaan', 'NN'): 4, ('tanpa', 'IN'): 14, ('penurunan', 'NN'): 1, ('performansi', 'NN'): 1, ('tersedia', 'VB'): 44, ('24x7x365', 'CD'): 1, ('pengecualian', 'NN'): 3, ('perawatan', 'NN'): 3, ('berikut', 'NN'): 1, ('Senin', 'NNP'): 1, ('-', 'NNP'): 1, ('Sabtu', 'NNP'): 1, ('03:00-04:00', 'NNP'): 1, ('AM', 'NNP'): 2, ('EST', 'NNP'): 2, ('Minggu', 'NNP'): 1, ('01:00', 'CD'): 2, ('AM', 'NN'): 1, ('sampai', 'IN'): 3, ('05:00', 'CD'): 1, ('basis', 'NN'): 16, ('pernyataan', 'NN'): 3, ('Basis', 'NNP'): 3, ('menyediakan', 'VB'): 23, ('transaksi', 'NN'): 20, ('seng', 'NN'): 1, ('diperoleh', 'VB'): 3, ('rinci', 'VB'): 3, ('mengenai', 'IN'): 5, ('berkenaan', 'NN'): 1, ('Surat', 'NN'): 1, ('Ini', 'PR'): 3, ('meminta', 'VB'): 11, ('surat', 'NN'): 4, ('inisiasi', 'NN'): 2, ('proses', 'NN'): 9, ('permintaan', 'NN'): 26, ('dikirim', 'VB'): 4, ('Print', 'NNP'): 2, ('Letter', 'NNP'): 2, ('Utility', 'NNP'): 2, ('berinteraksi', 'VB'): 5, ('penagihan', 'NN'): 2, ('pengiriman', 'NN'): 1, ('penyesuaian', 'NN'): 2, ('akun', 'NN'): 6, ('Sistem', 'NNP'): 48, ('Pengiriman', 'NNP'): 1, ('Penagihan', 'NN'): 1, ('memastikan', 'VB'): 12, ('tingkat', 'NN'): 6, ('diperbolehkan', 'VB'): 1, ('memulai', 'VB'): 9, ('Hanya', 'RB'): 15, ('Pembaruan', 'NN'): 3, ('berwenang', 'VB'): 10, ('diizinkan', 'VB'): 5, ('masuk', 'VB'): 5, ('resmi', 'JJ'): 4, ('pernah', 'MD'): 1, ('diautentikasi', 'VB'): 2, ('menghasilkan', 'VB'): 13, ('setiap', 'CD'): 42, ('ditambahkan', 'VB'): 4, ('apapun', 'SC'): 1, ('terhadap', 'IN'): 3, ('ditinjau', 'VB'): 1, ('audit', 'NN'): 19, ('penambahan', 'NN'): 6, ('dicatat', 'VB'): 6, ('pengguna', 'SC'): 5, ('Jika', 'SC'): 11, ('akun', 'VB'): 2, ('dicabut', 'VB'): 2, ('maka', 'SC'): 7, ('dipakai', 'VB'): 1, ('ulang', 'VB'): 24, ('oleh', 'IN'): 68, ('Hanya', 'NNP'): 2, ('Administrator', 'NNP'): 11, ('mengatur', 'VB'): 2, ('memanipulasi', 'VB'): 1, ('melihat', 'VB'): 14, ('bisnis', 'NN'): 7, ('Pengguna', 'NNP'): 8, ('langsung', 'RB'): 5, ('berkas', 'NN'): 2, ('pembaruan', 'NN'): 6, ('dimulai', 'VB'): 7, ('hukum', 'NN'): 2, ('sebagaimana', 'SC'): 3, ('ditentukan', 'VB'): 13, ('Peraturan', 'NNP'): 6, ('Operasi', 'NNP'): 2, ('Dagang', 'NNP'): 2, ('aturan', 'NN'): 4, ('ditetapkan', 'VB'): 10, ('E', 'NNP'): 2, ('Z', 'NNP'): 2, ('pemrosesan', 'NN'): 5, ('kartu', 'NN'): 16, ('pedoman', 'NN'): 3, ('mempertahankan', 'VB'): 5, ('riwayat', 'NN'): 2, ('terperinci', 'VB'): 1, ('tindakan', 'NN'): 11, ('Hal', 'NN'): 1, ('jejak', 'NN'): 1, ('lengkap', 'VB'): 1, ('muncul', 'VB'): 3, ('pertanyaan', 'NN'): 1, ('riyawat', 'NN'): 1, ('diakses', 'VB'): 10, ('mencegah', 'VB'): 10, ('mengakses', 'NN'): 1, ('bukan', 'NEG'): 1, ('milik', 'NN'): 3, ('pemegang', 'NN'): 1, ('memfasilitasi', 'VB'): 1, ('entri', 'NN'): 2, ('melalui', 'IN'): 17, ('antarmuka', 'NN'): 8, ('respon', 'NN'): 4, ('nyata', 'JJ'): 1, ('tampilan', 'NN'): 11, ('bagi', 'IN'): 8, ('memilih', 'VB'): 7, ('diperdebatkan', 'VB'): 1, ('usia', 'NN'): 1, ('pengambilan', 'NN'): 9, ('tiket', 'NN'): 9, ('pemberitahuan', 'NN'): 4, ('tagihan', 'NN'): 9, ('dipilih', 'VB'): 8, ('memberikan', 'VB'): 19, ('tunggal', 'JJ'): 1, ('beberapa', 'CD'): 5, ('Sebagai', 'IN'): 1, ('memasukkan', 'VB'): 9, ('Permintaan', 'NN'): 6, ('adalah', 'VB'): 13, ('dokumen', 'NN'): 5, ('menanyakan', 'VB'): 1, ('keabsahan', 'NN'): 1, ('tiga', 'CD'): 1, ('jenis', 'NND'): 6, ('unik', 'JJ'): 2, ('Ketiga', 'CD'): 1, ('1', 'CD'): 11, ('tanda', 'NN'): 5, ('terima', 'VB'): 6, ('asli', 'JJ'): 5, ('salinan', 'NN'): 2, ('3', 'CD'): 9, ('portofolio', 'NN'): 3, ('Sebuah', 'NND'): 4, ('dokumentasi', 'NN'): 3, ('bukti', 'NN'): 2, ('pembelian', 'NN'): 3, ('seperti', 'IN'): 7, ('diterima', 'VB'): 5, ('agen', 'NN'): 2, ('penyewaan', 'NN'): 1, ('mobil', 'NN'): 1, ('penjualan', 'NN'): 5, ('dibatasi', 'VB'): 2, ('konfirmasi', 'NN'): 4, ('saat', 'NN'): 17, ('berikut', 'PR'): 3, (';', 'Z'): 4, ('diminta', 'VB'): 2, ('jatuh', 'VB'): 3, ('tempo', 'NN'): 2, ('notifikasi', 'NN'): 1, ('menunjukkan', 'VB'): 8, ('ditagih', 'VB'): 1, ('kembali', 'VB'): 7, ('dipersengketakan', 'VB'): 1, ('sah', 'JJ'): 3, ('tertunda', 'NN'): 1, ('terciptanya', 'RB'): 1, ('duplikat', 'VB'): 1, ('akurat', 'JJ'): 1, ('alasan', 'NN'): 5, ('kemungkinan', 'NN'): 1, ('diturunkan', 'VB'): 2, ('industri', 'NN'): 1, ('fungsionalitas', 'NN'): 5, ('Metode', 'NN'): 1, ('mencari', 'VB'): 8, ('rekening', 'NN'): 2, ('Anggota', 'NNP'): 6, ('Kartu', 'NNP'): 1, ('4', 'CD'): 5, ('penerbit', 'NN'): 1, ('Selain', 'IN'): 1, ('kriteria', 'NN'): 6, ('atas', 'NN'): 2, ('membatasi', 'VB'): 1, ('hasil', 'NN'): 11, ('rentang', 'NN'): 2, ('tutup', 'VB'): 1, ('terbuka', 'VB'): 2, ('memenuhi', 'VB'): 6, ('dimasukkan', 'VB'): 10, ('disediakan', 'VB'): 7, ('membedakan', 'VB'): 2, ('dengan', 'SC'): 4, ('item', 'NN'): 3, ('baris', 'NN'): 3, ('Misalnya', 'RB'): 1, ('berwarna', 'NN'): 2, ('kuning', 'JJ'): 1, ('tertutup', 'VB'): 1, ('abu-abu', 'NN'): 1, ('kegiatan', 'NN'): 2, ('menindaklanjuti', 'VB'): 1, ('Daftar', 'NNP'): 1, ('disaring', 'VB'): 1, ('mencatat', 'VB'): 1, ('aktivitas', 'NN'): 1, ('memodifikasi', 'NN'): 3, ('Riwayat', 'NNP'): 1, ('diambil', 'VB'): 2, ('dipertahankan', 'VB'): 2, ('sistematis', 'JJ'): 2, ('non-pengguna', 'NN'): 1, ('penuaan', 'NN'): 1, ('dihasilkan', 'VB'): 3, ('Setelah', 'SC'): 7, ('berikutnya', 'RB'): 1, ('diberitahu', 'VB'): 1, ('diformat', 'VB'): 2, ('Setiap', 'CD'): 13, ('ditutup', 'VB'): 1, ('6', 'CD'): 4, ('dibersihkan', 'VB'): 1, ('online', 'FW'): 4, ('menyegarkan', 'VB'): 1, ('60', 'CD'): 2, ('mencocokkan', 'VB'): 1, ('Keamanan', 'NNP'): 2, ('Dalam', 'NNP'): 1, ('Negeri', 'NNP'): 1, ('diproyeksikan', 'VB'): 2, ('10x10', 'CD'): 2, ('90', 'CD'): 20, ('membaca', 'VB'): 1, ('jarak', 'NN'): 3, ('pandang', 'VB'): 2, ('30', 'CD'): 9, ('cm', 'NND'): 2, ('produk', 'NN'): 157, ('jam', 'NN'): 20, ('kerja', 'NN'): 7, ('normal', 'JJ'): 2, ('99', 'CD'): 4, ('total', 'NN'): 5, ('operasional', 'JJ'): 2, ('enam', 'CD'): 3, ('memahami', 'VB'): 2, ('Acara', 'NNP'): 5, ('Kegiatan', 'NN'): 2, ('mengakses', 'VB'): 14, ('antara', 'IN'): 12, ('jalur', 'NN'): 1, ('Produk', 'NN'): 119, ('intuitif', 'JJ'): 7, ('jelas', 'JJ'): 2, ('aktifitas', 'NN'): 3, ('menit', 'NN'): 24, ('sejak', 'IN'): 4, ('mulai', 'VB'): 2, ('merespon', 'VB'): 2, ('cepat', 'JJ'): 6, ('tetap', 'RB'): 4, ('up-to-date', 'FW'): 1, ('bentuk', 'NN'): 2, ('MDI', 'NNP'): 1, ('grafik', 'JJ'): 1, ('tabel', 'NN'): 5, ('meja', 'NN'): 2, ('vertikal', 'JJ'): 2, ('grafik', 'NN'): 3, ('Layar', 'NN'): 1, ('dua', 'CD'): 5, ('area', 'NN'): 2, (':', 'Z'): 7, ('2/3', 'CD'): 1, ('grafis', 'NN'): 1, ('1/3', 'CD'): 1, ('Data', 'NN'): 3, ('kedua', 'CD'): 2, ('node', 'NN'): 1, ('MSEL', 'NNP'): 1, ('Sisi', 'NN'): 1, ('dibagi', 'VB'): 1, ('wilayah', 'NN'): 2, ('sekuensial', 'JJ'): 1, ('temporal', 'JJ'): 1, ('1/4', 'CD'): 1, ('mengadakan', 'VB'): 2, ('acara', 'NN'): 2, ('berurutan', 'NN'): 1, ('bawah', 'NN'): 15, ('3/4', 'CD'): 1, ('peristiwa', 'NN'): 1, ('menurut', 'IN'): 2, ('relevansinya', 'NN'): 1, ('peristiwa', 'VB'): 1, ('varians', 'NN'): 1, ('Sync', 'NNP'): 2, ('Matrix', 'NNP'): 2, ('1.0', 'CD'): 6, ('Alat', 'NNP'): 2, ('Manajemen', 'NNP'): 2, ('Latihan', 'NNP'): 2, ('menghubungkan', 'VB'): 3, ('Events', 'NNP'): 1, ('salah', 'JJ'): 4, ('memodifikasi', 'VB'): 1, ('menawarkan', 'VB'): 1, ('Acara', 'NN'): 1, ('latihan', 'NN'): 2, ('menyaring', 'VB'): 1, ('Venues', 'NNP'): 1, ('kunci', 'NN'): 1, ('segmen', 'NN'): 1, ('lokal', 'JJ'): 1, ('terpisah', 'VB'): 2, ('berhenti-sementara', 'NN'): 1, ('pause', 'FW'): 1, ('melanjutkan', 'VB'): 1, ('direfresh', 'VB'): 1, ('kejadian', 'NN'): 3, ('asumsi', 'NN'): 1, ('rekam', 'VB'): 1, ('Tampilan', 'NN'): 3, ('tema', 'NN'): 1, ('perangkat', 'NN'): 10, ('pintar', 'NN'): 1, ('Tombol', 'NNP'): 1, ('menu', 'NN'): 6, ('antar', 'IN'): 2, ('muka', 'NN'): 2, ('profesional', 'JJ'): 3, ('skema', 'NN'): 2, ('font', 'FW'): 1, ('konsisten', 'JJ'): 3, ('mudah', 'JJ'): 17, ('Realtors', 'NNP'): 3, ('karakteristik', 'NN'): 1, ('memberi', 'VB'): 8, ('penjelasan', 'NN'): 1, ('sendiri', 'NN'): 5, ('self', 'FW'): 1, ('explanatory', 'FW'): 1, ('dipelajari', 'VB'): 4, ('makelar', 'NN'): 4, ('simbol-simbol', 'NN'): 2, ('kata-kata', 'NN'): 3, ('dipahami', 'VB'): 2, ('alami', 'NN'): 2, ('Hasil', 'NN'): 3, ('dikembalikan', 'VB'): 8, ('selambat', 'NN'): 2, ('CMA', 'NNP'): 5, ('-', 'Z'): 2, ('lambatnya', 'RB'): 1, ('sinkronisasi', 'NN'): 3, ('janji', 'NN'): 4, ('kantor', 'NN'): 4, ('24', 'CD'): 5, ('per', 'IN'): 10, ('365', 'CD'): 2, ('Dari', 'IN'): 1, ('1000', 'CD'): 4, ('999', 'CD'): 1, ('kali', 'NND'): 6, ('beroperasi', 'VB'): 13, ('modus', 'NN'): 1, ('offline', 'FW'): 1, ('koneksi', 'NN'): 5, ('internet', 'NN'): 3, ('download', 'NN'): 1, ('sebelumnya', 'SC'): 4, ('menyimpan', 'VB'): 5, ('preferensi', 'NN'): 4, ('hal', 'NN'): 1, ('kegagalan', 'NN'): 3, ('disimpan', 'NN'): 3, ('dipulihkan', 'VB'): 1, ('jauh', 'JJ'): 1, ('dukungan', 'NN'): 11, ('simultan', 'NN'): 5, ('menangani', 'VB'): 8, ('Jumlah', 'NN'): 6, ('diperkirakan', 'VB'): 1, ('tumbuh', 'VB'): 1, ('depan', 'NN'): 2, ('dipasang', 'VB'): 2, ('terlatih', 'VB'): 1, ('jalan', 'NN'): 3, ('petunjuk', 'VB'): 1, ('terpisah-dicetak', 'NN'): 1, ('belum', 'NEG'): 2, ('mendapat', 'VB'): 1, ('menginstal', 'VB'): 1, ('media', 'NN'): 1, ('bantuan', 'NN'): 2, ('dicetak', 'NN'): 1, ('diharapkan', 'VB'): 5, ('berjalan', 'VB'): 2, ('operasi', 'NN'): 7, ('Palm', 'NNP'): 1, ('Windows', 'NNP'): 7, ('CE', 'NNP'): 1, ('otentikasi', 'VB'): 1, ('otorisasi', 'NN'): 2, ('benar', 'JJ'): 5, ('diperkenalkan', 'VB'): 2, ('real', 'FW'): 2, ('estate', 'FW'): 1, ('MLS', 'NNP'): 2, ('Pengguna', 'SC'): 13, ('arah', 'NN'): 1, ('mengemudi', 'NN'): 1, ('properti', 'NN'): 7, ('men-download', 'VB'): 1, ('kesepakatan', 'NN'): 3, ('klien', 'JJ'): 1, ('gambar', 'NN'): 2, ('memperbaruhi', 'VB'): 1, ('Makelar', 'NN'): 3, ('menelepon', 'VB'): 1, ('penjual', 'NN'): 2, ('pembeli', 'NN'): 2, ('menjadwalkan', 'VB'): 1, ('diberitahukan', 'VB'): 1, ('klien', 'NN'): 1, ('otomatis', 'JJ'): 9, ('peta', 'NN'): 4, ('memberitahu', 'VB'): 2, ('apabila', 'SC'): 1, ('menyimpan', 'NN'): 7, ('Staf', 'NNP'): 6, ('membantu', 'VB'): 3, ('menghindari', 'VB'): 4, ('kesalahan', 'NN'): 6, ('penjadwalan', 'NN'): 5, ('penajdwalan', 'NN'): 1, ('klinikal', 'JJ'): 1, ('menurun', 'VB'): 1, ('50', 'CD'): 2, ('bersifat', 'VB'): 1, ('simbol', 'NN'): 1, ('komunitas', 'NN'): 1, ('``', 'FW'): 1, ('Verbiage', 'FW'): 1, (\"''\", 'Z'): 1, ('Standar', 'NNP'): 1, ('bahasa', 'NNP'): 2, ('Inggris', 'NNP'): 2, ('terminologi', 'NN'): 2, ('Komunitas', 'NNP'): 1, ('nasional', 'JJ'): 1, ('Staf', 'NN'): 1, ('serangkaian', 'NN'): 1, ('tugas', 'NN'): 6, ('respons', 'VB'): 1, ('fitur', 'NN'): 5, ('manajemen', 'NN'): 12, ('08:00', 'CD'): 1, ('18:00', 'CD'): 2, ('mencapai', 'VB'): 7, ('95', 'CD'): 8, ('melayani', 'VB'): 2, ('10', 'CD'): 13, ('09:00-05:00', 'CD'): 1, ('memproses', 'NN'): 4, ('kurikulum', 'NN'): 1, ('minimal', 'JJ'): 5, ('lingkungan', 'NN'): 8, ('khas', 'VB'): 1, ('DePaul', 'NNP'): 2, ('University', 'NNP'): 1, ('spesifikasi', 'NN'): 1, ('komputer', 'NN'): 8, ('XP', 'NNP'): 2, ('Professional', 'NNP'): 1, ('server', 'NN'): 9, ('pusat', 'NN'): 3, ('CampusConnect', 'NNP'): 3, ('fakultas', 'NN'): 1, ('server', 'FW'): 3, ('master', 'FW'): 1, ('Harus', 'MD'): 1, ('browser', 'FW'): 2, ('HTML', 'FW'): 2, ('satu-satunya', 'NN'): 3, ('klinik', 'NN'): 1, ('pribadi', 'NN'): 4, ('Dr', 'NNP'): 3, ('Susan', 'NNP'): 2, ('Poslusny', 'NNP'): 2, ('Julie', 'NNP'): 1, ('Donalek', 'NNP'): 1, ('interface', 'FW'): 1, ('Fit', 'NNP'): 1, ('Kriteria', 'NNP'): 1, ('Karen', 'NNP'): 1, ('Sysol', 'NNP'): 1, ('kepenjadwalan', 'NN'): 1, ('akhir', 'NN'): 7, ('berhubungan', 'VB'): 1, ('integritas', 'NN'): 3, ('mengurangi', 'VB'): 2, ('valid', 'VB'): 2, ('melindungi', 'VB'): 3, ('kebijakan', 'NN'): 3, ('organisasi', 'NN'): 5, ('keamanan', 'NN'): 3, ('gangguan', 'NN'): 4, ('membahayakan', 'VB'): 1, ('Internet', 'NN'): 8, ('Explorer', 'NN'): 1, ('versi', 'NN'): 4, ('5.5', 'CD'): 1, ('diatasnya', 'RB'): 2, ('Mozilla', 'NNP'): 1, ('Firefox', 'NNP'): 2, ('Versi', 'NNP'): 1, ('Bagian', 'NNP'): 3, ('Pemilihan', 'NNP'): 2, ('umpan', 'NN'): 2, ('daur', 'NN'): 24, ('keras', 'JJ'): 3, ('Arsitektur', 'NN'): 1, ('Panduan', 'NNP'): 3, ('Antarmuka', 'NNP'): 4, ('korporat', 'NNP'): 1, ('terlihat', 'VB'): 2, ('Penyesuai', 'NNP'): 2, ('Pengukur', 'NNP'): 4, ('Tumbukan', 'NNP'): 4, ('Adjusters', 'NNP'): 1, ('Collision', 'NNP'): 1, ('Estimator', 'NNP'): 1, ('menemukan', 'VB'): 6, ('meningkatkan', 'VB'): 1, ('produktivitas', 'NN'): 2, ('80', 'CD'): 7, ('menyetujui', 'VB'): 2, ('peningkatan', 'NN'): 2, ('merasa', 'VB'): 2, ('puas', 'JJ'): 1, ('85', 'CD'): 1, ('puas', 'VB'): 1, ('tempat', 'NN'): 1, ('petunjuk', 'NN'): 1, ('Bantuan', 'NN'): 1, ('ditemukan', 'VB'): 2, ('Pencarian', 'NN'): 2, ('memakan', 'VB'): 2, ('15', 'CD'): 4, ('fasilitas', 'NN'): 15, ('perbaikan', 'NN'): 16, ('8', 'CD'): 4, ('Pasilitas', 'NN'): 1, ('Peringkat', 'NN'): 5, ('Simpan', 'NNP'): 1, ('ketersediaan', 'NN'): 3, ('98', 'CD'): 7, ('pemadaman', 'NN'): 1, ('terjadwal', 'NN'): 2, ('aktif', 'JJ'): 5, ('boleh', 'MD'): 7, ('gagal', 'JJ'): 3, ('hingga', 'IN'): 7, ('1500', 'CD'): 2, ('iniharus', 'RB'): 1, ('bekerja', 'VB'): 3, ('rata-rata', 'JJ'): 4, ('catatan', 'NN'): 3, ('50000', 'CD'): 1, ('10000', 'CD'): 1, ('peluncurannya', 'RB'): 1, ('penduga', 'VB'): 1, ('dioperasikan', 'VB'): 1, ('kondisi', 'NN'): 2, ('kotor', 'NN'): 1, ('bising', 'FW'): 1, ('sekali', 'RB'): 4, ('sehari', 'VB'): 1, ('sekitar', 'IN'): 2, ('pukul', 'NN'): 3, ('Pemeliharaan', 'NN'): 1, ('berada', 'VB'): 6, ('jendela', 'NN'): 1, ('pemeliharaan', 'NN'): 3, ('korporat', 'NN'): 1, ('pasti', 'RB'): 1, ('didukung', 'VB'): 1, ('instalasi', 'NN'): 2, ('upgrade', 'NN'): 1, ('ditangani', 'VB'): 1, ('tim', 'NN'): 6, ('teknologi', 'NN'): 4, ('middleware', 'FW'): 1, ('frame', 'NN'): 1, ('peluncuran', 'NN'): 1, ('didirikan', 'VB'): 1, ('adjuster', 'JJ'): 2, ('Tidak', 'NEG'): 4, ('peran', 'NN'): 9, ('adjuster', 'NN'): 6, ('pengawas', 'NN'): 5, ('memperbarui', 'VB'): 7, ('peringkat', 'NN'): 8, ('estimator', 'NN'): 8, ('tabrakan', 'NN'): 7, ('valid', 'NN'): 1, ('Salah', 'NN'): 1, ('asuransi', 'NN'): 3, ('companys', 'NN'): 1, ('mengklaim', 'VB'): 1, ('bebas', 'JJ'): 2, ('virus', 'NN'): 2, ('serangan', 'NN'): 1, ('berbahaya', 'VB'): 6, ('penolakan', 'NN'): 1, ('Sarbanes-Oxley', 'NNP'): 1, ('undang-undang', 'NN'): 1, ('estimatics', 'NN'): 1, ('penggunaan', 'NN'): 10, ('peraturan', 'NN'): 1, ('pengolahan', 'NN'): 1, ('klaim', 'NN'): 1, ('kendaraan', 'NN'): 7, ('jari-jari', 'VB'): 1, ('mil', 'JJ'): 1, ('model', 'NN'): 1, ('Lokasi', 'NN'): 1, ('negara', 'NN'): 6, ('kota', 'NN'): 2, ('pos', 'NN'): 4, ('diketahui', 'VB'): 1, ('Radius', 'NN'): 1, ('mil', 'NND'): 1, ('tertinggi', 'JJ'): 1, ('masukan', 'VB'): 3, ('estimasi', 'NN'): 6, ('menimpa', 'VB'): 1, ('facitlity', 'FW'): 1, ('radius', 'NN'): 2, ('rusak', 'JJ'): 3, ('suku', 'NN'): 2, ('cadang', 'NN'): 1, ('pemasok', 'NN'): 6, ('mil', 'NN'): 1, ('Tersedia', 'NN'): 1, ('ulang', 'NN'): 2, ('berlaku', 'VB'): 3, ('terpilih', 'VB'): 1, ('komponen', 'NN'): 1, ('meninjau', 'VB'): 1, ('perkiraan', 'NN'): 3, ('pemeriksaan', 'NN'): 1, ('bagian-bagian', 'NN'): 1, ('persentase', 'NN'): 1, ('skor', 'NN'): 5, ('merangkum', 'NN'): 1, ('indivual', 'JJ'): 1, ('titik-titik', 'NN'): 1, ('kemudian', 'CC'): 2, ('set', 'NN'): 1, ('kosong', 'VB'): 1, ('skala', 'NN'): 1, ('1-10', 'CD'): 1, ('percobaan', 'NN'): 2, ('aktual', 'JJ'): 1, ('diselamatkan', 'VB'): 1, ('kebanyakan', 'CD'): 1, ('database', 'FW'): 7, ('DBMS', 'NNP'): 3, ('pasar', 'NN'): 8, ('apakah', 'WH'): 3, ('DBMS', 'FW'): 1, ('colocated', 'FW'): 1, ('mesin', 'NN'): 4, ('terletak', 'VB'): 2, ('jaringan', 'NN'): 3, ('berfungsi', 'VB'): 1, ('bersama', 'IN'): 1, ('lunak', 'NN'): 6, ('runtime', 'NN'): 1, ('Java', 'NNP'): 1, ('diinstal', 'JJ'): 1, ('membutuhkan', 'VB'): 1, ('kerjasama', 'NN'): 1, ('mungkin', 'MD'): 5, ('memanfaatkan', 'VB'): 1, ('web', 'NNP'): 34, ('contoh', 'NN'): 1, ('open', 'FW'): 1, ('source', 'FW'): 1, ('Apache', 'NNP'): 1, ('server', 'NNP'): 1, ('Tomcat', 'NNP'): 1, ('JBoss', 'NNP'): 1, ('database', 'NN'): 10, ('Oracle', 'NNP'): 2, ('DB2', 'NNP'): 2, ('MySql', 'NNP'): 1, ('HSQL', 'NNP'): 2, ('perlu', 'MD'): 3, ('diintegrasikan', 'VB'): 1, ('Lihatlah', 'NN'): 1, ('Rasakan', 'NN'): 1, ('menggabungkan', 'VB'): 1, ('aspek', 'NN'): 2, ('pelanggan', 'NN'): 33, ('logo', 'FW'): 1, ('branding', 'FW'): 1, ('identitas', 'NN'): 4, ('penampilan', 'NN'): 1, ('konservatif', 'JJ'): 1, ('ingin', 'RB'): 1, ('menggunakannya', 'RB'): 2, ('disurvei', 'VB'): 1, ('pasca-peluncuran', 'NN'): 1, ('memesan', 'NN'): 1, ('konferensi', 'NN'): 12, ('balik', 'NN'): 1, ('bila', 'SC'): 1, ('disurvei', 'NN'): 1, ('melaporkan', 'VB'): 3, ('akurat', 'NN'): 1, ('menegaskan', 'VB'): 1, ('bahasa', 'NN'): 5, ('target', 'NN'): 6, ('kustomisasi', 'NN'): 1, ('halaman', 'NN'): 18, ('pandangan', 'NN'): 2, ('karyawan', 'NN'): 10, ('informal', 'JJ'): 1, ('kurang', 'RB'): 1, ('setup', 'VB'): 1, ('akrab', 'NN'): 2, ('web', 'NN'): 8, ('paling', 'RB'): 2, ('Amerika', 'NNP'): 3, ('Disabilities', 'NNP'): 1, ('Act', 'NNP'): 1, ('Tanggapan', 'NN'): 1, ('cukup', 'RB'): 4, ('mengganggu', 'VB'): 1, ('aliran', 'NN'): 1, ('pemikiran', 'NN'): 1, ('Selain', 'CC'): 1, ('99,99', 'CD'): 2, ('masalah', 'NN'): 5, ('dihadapi', 'VB'): 1, ('transmisi', 'NN'): 1, ('kami', 'PRP'): 1, ('analisis', 'NN'): 1, ('resolusi', 'NN'): 4, ('000', 'CD'): 4, ('meningkat', 'VB'): 2, ('Rilis', 'NNP'): 2, ('Kapasitas', 'NN'): 1, ('konkurensi', 'NN'): 1, ('puncak', 'NN'): 1, ('kali', 'NN'): 1, ('pagi', 'NN'): 5, ('sore', 'NN'): 1, ('peluncurannya', 'NN'): 1, ('20', 'CD'): 2, ('Release', 'NNP'): 1, ('setidaknya', 'RB'): 3, ('mengirimkan', 'VB'): 3, ('HTML', 'NNP'): 2, ('browser', 'NN'): 4, ('diuji', 'VB'): 1, ('minimum', 'NN'): 3, ('menguji', 'VB'): 1, ('berinteraksi', 'NN'): 4, ('berbagai', 'CD'): 5, ('berkomunikasi', 'VB'): 1, ('sukses', 'NN'): 1, ('email', 'NN'): 4, ('mengirim', 'VB'): 3, ('distribusi', 'NN'): 1, ('biner', 'NN'): 1, ('file', 'FW'): 3, ('ZIP', 'FW'): 1, ('sangat', 'RB'): 1, ('dikonfigurasi', 'VB'): 1, ('mengintegrasikan', 'VB'): 3, ('software', 'FW'): 2, ('rilis', 'NN'): 4, ('setahun', 'NN'): 2, ('menginstal', 'JJ'): 1, ('70', 'CD'): 2, ('solusi', 'NN'): 2, ('Pelanggan', 'NN'): 2, ('gedung', 'NN'): 1, ('siklus', 'NN'): 3, ('hidup', 'NN'): 2, ('Integrasi', 'NN'): 1, ('sedikit', 'CD'): 1, ('diterjemahkan', 'VB'): 1, ('asing', 'JJ'): 1, ('selain', 'IN'): 1, ('negara-negara', 'NN'): 1, ('mendatang', 'VB'): 1, ('berkembang', 'VB'): 1, ('itu', 'PR'): 6, ('mengkonfigurasi', 'NN'): 1, ('bahasa', 'VB'): 2, ('SQL', 'NNP'): 1, ('Server', 'NNP'): 2, ('MySQL', 'NNP'): 1, ('MS', 'NNP'): 1, ('Access', 'NNP'): 1, ('diinstal', 'VB'): 1, ('ID', 'NNP'): 2, ('perusahaan-disetujui', 'VB'): 2, ('login', 'NN'): 6, ('baik', 'JJ'): 2, ('pengelola', 'VB'): 1, ('pemesanan', 'NN'): 3, ('reservasi', 'NN'): 1, ('input', 'VB'): 1, ('berdekatan', 'VB'): 1, ('hardware', 'FW'): 1, ('tergantung', 'VB'): 3, ('filesystem', 'NN'): 2, ('input', 'NN'): 1, ('kecelakaan', 'NN'): 1, ('menerima', 'VB'): 6, ('ancaman', 'NN'): 1, ('dikirimkan', 'VB'): 1, ('diinstal', 'NN'): 1, ('Bahasa', 'NN'): 1, ('mengakomodasi', 'VB'): 2, ('responden', 'NN'): 2, ('survei', 'NN'): 6, ('masing-masing', 'CD'): 2, ('kalender', 'NN'): 1, ('format', 'NN'): 5, ('dikembangkan', 'VB'): 1, ('J2SE', 'CD'): 1, ('J2EE', 'CD'): 1, ('perpustakaan', 'NN'): 1, ('pemrograman', 'NN'): 1, ('merekam', 'VB'): 7, ('rapat', 'NN'): 3, ('undangan', 'NN'): 1, ('pengingat', 'NN'): 1, ('menugaskan', 'VB'): 2, ('penyelenggara', 'NN'): 2, ('buat', 'VB'): 1, ('ucapan', 'NN'): 1, ('kasih', 'NN'): 1, ('peralatan', 'NN'): 8, ('kamar', 'NN'): 4, ('organizer', 'NN'): 1, ('mengundang', 'VB'): 1, ('dicadangkan', 'VB'): 1, ('diperbarui', 'VB'): 7, ('mencerminkan', 'VB'): 1, ('transportasi', 'NN'): 2, ('membangun', 'VB'): 1, ('agenda', 'NN'): 1, ('parameter', 'NN'): 6, ('wajib', 'JJ'): 1, ('personil', 'NN'): 1, ('bangunan', 'NN'): 2, ('priviledged', 'NN'): 1, ('pelaporan', 'NN'): 2, ('metode', 'NN'): 1, ('Lihatlah', 'NNP'): 1, ('disesuaikan', 'VB'): 1, ('Rasakan', 'VB'): 1, ('unreserved', 'FW'): 1, ('Rekreasi', 'NN'): 1, ('Persediaan', 'NNP'): 4, ('Penyesuaian', 'NNP'): 4, ('Jumlah', 'NNP'): 4, ('periode', 'NN'): 9, ('dimiliki', 'VB'): 2, ('cadangan', 'NN'): 1, ('mengembalikan', 'VB'): 2, ('menjaga', 'VB'): 2, ('password', 'NN'): 2, ('izin', 'NN'): 3, ('granularly', 'VB'): 1, ('mengontrol', 'NN'): 1, ('hak', 'NN'): 4, ('subsistem', 'NN'): 4, ('Itu', 'PR'): 1, ('mendapatkan', 'VB'): 1, ('independen', 'JJ'): 4, ('akuntansi', 'NN'): 2, ('Versi', 'NN'): 1, ('final', 'NN'): 1, ('melewati', 'VB'): 1, ('auditor', 'NN'): 1, ('bersertifikat', 'NN'): 1, ('memerlukan', 'VB'): 1, ('lisensi', 'NN'): 2, ('ketiga', 'OD'): 1, ('tambahan', 'NN'): 1, ('mengakibatkan', 'VB'): 1, ('biaya', 'NN'): 1, ('royalti', 'NN'): 1, ('generasi', 'NN'): 2, ('Inventarisasi', 'NN'): 1, ('Penyesuaian', 'NN'): 1, ('titik', 'NN'): 2, ('The', 'NNP'): 1, ('IQA', 'NNP'): 1, ('memperhitungkan', 'VB'): 1, ('persediaan', 'NN'): 2, ('menyesuaikan', 'VB'): 2, ('bahan', 'NN'): 4, ('penebusan', 'NN'): 4, ('memasuki', 'VB'): 2, ('formula', 'NN'): 5, ('semi-produk', 'NN'): 1, ('rumus', 'NN'): 1, ('mendefinisikan', 'VB'): 1, ('Formula', 'NN'): 1, ('PFE', 'NNP'): 1, ('Bahan', 'NNP'): 1, ('Rumus', 'NNP'): 2, ('agar', 'SC'): 1, ('bertahan', 'VB'): 1, ('terminal', 'NN'): 1, ('POS', 'NNP'): 1, ('PME', 'NNP'): 3, ('Subsystem', 'NNP'): 3, ('submenu', 'NN'): 3, ('dikelola', 'NN'): 1, ('bertahan', 'NN'): 2, ('RMS', 'NNP'): 1, ('GUI', 'NNP'): 2, ('berjangka', 'VB'): 1, ('penggunaannya', 'RB'): 1, ('sehari-hari', 'NN'): 1, ('harian', 'NN'): 2, ('Penjualan', 'NN'): 1, ('mengaktifkan', 'VB'): 3, ('pra-bayar', 'VB'): 7, ('Administrasi', 'NN'): 1, ('Nasabah', 'NN'): 1, ('memeriksa', 'VB'): 2, ('prabayar', 'NN'): 2, ('PIN', 'NNP'): 2, ('membiarkan', 'VB'): 9, ('mendaftar', 'NN'): 2, ('website', 'NN'): 11, ('“', 'Z'): 3, ('bayar', 'VB'): 1, ('Anda', 'PRP'): 1, ('pergi', 'VB'): 1, ('”', 'Z'): 3, ('unlimited', 'FW'): 1, ('film', 'NN'): 31, ('account', 'FW'): 3, ('Database', 'NNP'): 1, ('menandai', 'VB'): 5, ('login', 'VB'): 1, ('de-mengaktifkan', 'VB'): 1, ('Pelanggan', 'NNP'): 2, ('lagi', 'RB'): 2, ('sekarang', 'NN'): 1, ('menambah', 'VB'): 1, ('Izogn', 'NNP'): 7, ('Manager', 'NNP'): 1, ('statistik', 'NN'): 3, ('pin', 'NN'): 1, ('file', 'NNP'): 1, ('Excel', 'NNP'): 2, ('Website', 'NNP'): 6, ('menarik', 'VB'): 5, ('khalayak', 'CD'): 1, ('menyenangkan', 'VB'): 1, ('cerah', 'JJ'): 1, ('bersemangat', 'NN'): 1, ('nuansa', 'NN'): 2, ('Afrika', 'NNP'): 3, ('mengasingkan', 'VB'): 1, ('non-Afrika', 'SC'): 1, ('animasi', 'NN'): 2, ('menggambarkan', 'VB'): 1, ('merebut', 'VB'): 1, ('perhatian', 'NN'): 1, ('mendorong', 'VB'): 1, ('mendaftar', 'VB'): 1, ('Desain', 'IN'): 1, ('modern', 'NN'): 1, ('bersih', 'JJ'): 1, ('ringkas', 'NN'): 1, ('pemula', 'NN'): 2, ('menavigasi', 'VB'): 2, ('maksimal', 'JJ'): 5, ('streaming', 'NN'): 11, ('klik', 'NN'): 7, ('in', 'NN'): 1, ('anonim', 'NN'): 2, ('nyaman', 'NN'): 2, ('beli', 'VB'): 1, ('Streaming', 'NNP'): 1, ('membeli', 'VB'): 8, ('sebulan', 'NN'): 1, ('keterampilan', 'NN'): 1, ('menonton', 'FW'): 1, ('film', 'FW'): 1, ('streaming', 'FW'): 5, ('menonton', 'VB'): 2, ('alami', 'PRP'): 1, ('dimengerti', 'VB'): 1, ('Situs', 'NN'): 1, ('konvensi', 'NN'): 1, ('kecuali', 'RB'): 1, ('Ketika', 'SC'): 13, ('Saat', 'NN'): 1, ('penyangga', 'SC'): 1, ('ditambah', 'VB'): 1, ('latency', 'FW'): 2, ('Sementara', 'SC'): 1, ('streaming', 'VB'): 1, ('penyangga', 'IN'): 1, ('seharusnya', 'RB'): 1, ('sehubungan', 'SC'): 1, ('dijamin', 'VB'): 1, ('dienkripsi', 'VB'): 2, ('99,5', 'CD'): 1, ('dialirkan', 'VB'): 2, ('sepanjang', 'NN'): 6, ('terus', 'RB'): 5, ('turun', 'VB'): 2, ('gateway', 'FW'): 1, ('pembayaran', 'NN'): 3, ('Server', 'FW'): 3, ('700', 'CD'): 1, ('banyak', 'CD'): 1, ('100.000', 'CD'): 1, ('anggaran', 'NN'): 5, ('Perangkat', 'NN'): 1, ('Kita', 'PRP'): 1, ('IE', 'NNP'): 1, ('5.X', 'CD'): 1, ('6.0', 'CD'): 1, ('Netscape', 'NNP'): 2, ('6.x', 'CD'): 1, ('7.x', 'CD'): 1, ('8.x', 'CD'): 1, ('CyberSource', 'NNP'): 1, ('API', 'NNP'): 1, ('sepenuhnya', 'RB'): 1, ('MSN', 'NNP'): 1, ('TV2', 'NNP'): 1, ('Film', 'NN'): 3, ('dikodekan', 'VB'): 2, ('Media', 'NNP'): 2, ('Player', 'NNP'): 2, ('9.0', 'CD'): 1, ('stream', 'VB'): 1, ('56k', 'CD'): 2, ('256k', 'CD'): 1, ('promosi', 'NN'): 1, ('pulsa', 'NN'): 1, ('800', 'CD'): 2, ('pelanggannya', 'NN'): 1, ('jawaban', 'NN'): 1, ('Velkat', 'NNP'): 1, ('7', 'CD'): 4, ('malam', 'NN'): 1, ('M-F', 'NNP'): 1, ('teknis', 'JJ'): 2, ('streaming', 'JJ'): 3, ('membelinya', 'RB'): 1, ('personel', 'NN'): 3, ('dirinya', 'RB'): 3, ('penyalahgunaan', 'NN'): 1, ('disengaja', 'VB'): 1, ('tahu', 'VB'): 6, ('Skrip', 'NN'): 1, ('dijalankan', 'VB'): 4, ('memverifikasi', 'VB'): 3, ('penggunanya', 'RB'): 1, ('mengetahui', 'VB'): 1, ('praktik', 'NN'): 1, ('informasinya', 'NN'): 1, ('sebelum', 'SC'): 13, ('mengumpulkan', 'VB'): 1, ('melalui', 'VB'): 2, ('Kebijakan', 'NN'): 1, ('Privasi', 'NN'): 1, ('informasinya', 'RB'): 1, ('mengungkapkan', 'VB'): 3, ('aman', 'JJ'): 1, ('anti-virus', 'NN'): 1, ('infeksi', 'NN'): 1, ('Nigeria', 'NNP'): 2, ('menyinggung', 'VB'): 1, ('agama', 'NN'): 1, ('etnis', 'JJ'): 1, ('Flash', 'NNP'): 1, ('beranda', 'NN'): 1, ('IzognMovies', 'NNP'): 1, ('W3C', 'NNP'): 1, ('Kode', 'NNP'): 1, ('PHP', 'NNP'): 1, ('PEAR', 'FW'): 1, ('aktor', 'NN'): 2, ('sutradara', 'NN'): 2, ('detail', 'NN'): 1, ('deskripsi', 'NN'): 1, ('mengesahkan', 'VB'): 1, ('mengizinkan', 'VB'): 4, ('memutar', 'VB'): 1, ('dibeli', 'VB'): 1, ('menelusuri', 'VB'): 1, ('izogn', 'NN'): 1, ('ulasan', 'NN'): 3, ('diposting', 'VB'): 2, ('membayar', 'VB'): 1, ('senilai', 'NN'): 1, ('$', 'SYM'): 3, ('opsi', 'NN'): 1, ('Jumat', 'NNP'): 1, ('terbaru', 'JJ'): 2, ('Akun', 'NNP'): 1, ('Saya', 'NNP'): 1, ('Kartu', 'NN'): 1, ('didistribusikan', 'VB'): 1, ('kertas', 'NN'): 1, ('cetak', 'NN'): 1, ('gratis', 'JJ'): 2, ('Manajer', 'NNP'): 1, ('bahkan', 'RB'): 1, ('Statistik', 'NN'): 1, ('Pemilik', 'NN'): 1, ('Total', 'NN'): 1, ('timbal', 'JJ'): 5, ('volume', 'NN'): 2, ('timah', 'NN'): 12, ('8:00', 'CD'): 1, ('CST', 'NNP'): 3, ('8PM', 'CD'): 1, ('evaluasi', 'NN'): 1, ('lead', 'FW'): 6, ('selesai', 'VB'): 1, ('25', 'CD'): 3, ('97', 'CD'): 1, ('diproses', 'FW'): 1, ('lead', 'VB'): 1, ('prosesnya', 'RB'): 1, ('lama', 'JJ'): 2, ('durasi', 'NN'): 1, ('Proses', 'NN'): 3, ('Penugasan', 'NNP'): 1, ('Rep', 'NNP'): 1, ('Otomatis', 'NNP'): 1, ('mana', 'NN'): 3, ('ditempatkan', 'VB'): 1, ('pencucian', 'NN'): 10, ('struktur', 'NN'): 1, ('fisik', 'NN'): 1, ('mapan', 'VB'): 1, ('netral', 'JJ'): 1, ('mengikat', 'VB'): 1, ('xml', 'NN'): 1, ('cacat', 'VB'): 1, ('unit', 'NN'): 1, ('24x7', 'CD'): 1, ('Parameter', 'NN'): 1, ('Vendor', 'NNP'): 2, ('valid', 'JJ'): 1, ('menyerahkan', 'VB'): 1, ('validasi', 'NN'): 1, ('diterapkan', 'VB'): 2, ('suatu', 'CD'): 1, ('lead', 'NN'): 8, ('dinilai', 'VB'): 1, ('kisaran', 'NN'): 1, ('tinggi', 'JJ'): 5, ('memasok', 'VB'): 1, ('Fungsionalitas', 'NN'): 3, ('cuci', 'NN'): 1, ('memvalidasi', 'VB'): 1, ('valid', 'FW'): 1, ('mencuci', 'NN'): 2, ('ditangkap', 'VB'): 1, ('skor', 'FW'): 2, ('diproses', 'VB'): 1, ('ARA', 'NNP'): 1, ('arahan', 'NN'): 1, ('verifikasi', 'NN'): 1, ('manual', 'JJ'): 1, ('Koordinator', 'NNP'): 1, ('Pendaftaran', 'NNP'): 1, ('eleads', 'NN'): 1, ('rendah', 'JJ'): 1, ('vendor', 'NN'): 2, ('Fungsi', 'NN'): 6, ('mengkompilasi', 'VB'): 1, ('penilaian', 'NN'): 1, ('akademik', 'JJ'): 1, ('sekolah', 'NN'): 1, ('mencetak', 'VB'): 1, ('hitam', 'JJ'): 3, ('dipasok', 'VB'): 1, ('beserta', 'NN'): 1, ('penolakannya', 'RB'): 1, ('otentikasi', 'NN'): 2, ('potensi', 'NN'): 1, ('duplikat', 'NN'): 1, ('Sebelum', 'SC'): 1, ('repetisi', 'NN'): 1, ('mensimulasikan', 'VB'): 5, ('kapal', 'NN'): 21, ('laut', 'NN'): 2, ('kisi-kisi', 'NN'): 1, ('lingkaran', 'NN'): 1, ('periskop', 'NN'): 1, ('kisi', 'NN'): 8, ('pemain', 'NN'): 48, ('ofensif', 'JJ'): 14, ('tembakan', 'NN'): 18, ('suara', 'NN'): 4, ('ditandai', 'VB'): 6, ('kehilangan', 'NN'): 4, ('targetnya', 'RB'): 1, ('targetnya', 'NN'): 1, ('tenggelam', 'NN'): 2, ('tenggelam', 'VB'): 5, ('sehari', 'NN'): 2, ('tujuh', 'CD'): 1, ('seminggu', 'VB'): 3, ('sejumlah', 'CD'): 1, ('besar', 'JJ'): 1, ('game', 'NN'): 2, ('Waktu', 'NN'): 2, ('respons', 'NN'): 7, ('alur', 'NN'): 2, ('permainan', 'NN'): 19, ('Waktu', 'NNP'): 3, ('respons', 'NNP'): 3, ('tanggapan', 'NN'): 4, ('sisa', 'NN'): 3, ('pemain', 'JJ'): 10, ('Sembilan', 'NNP'): 1, ('sepuluh', 'CD'): 1, ('mengerti', 'VB'): 1, ('Spanyol', 'NNP'): 1, ('Perancis', 'NNP'): 1, ('memelihara', 'VB'): 1, ('mengidentifikasi', 'VB'): 3, ('para', 'DT'): 4, ('ditugaskan', 'VB'): 3, ('dirinya', 'NN'): 2, ('garis', 'NN'): 1, ('pertahanan', 'NN'): 5, ('grid', 'NN'): 5, ('defensif', 'JJ'): 11, ('memposisikan', 'VB'): 5, ('horizontal', 'NN'): 1, ('diagonal', 'JJ'): 1, ('tumpang', 'NN'): 1, ('tindih', 'VB'): 1, ('pemain', 'VB'): 2, ('giliran', 'NN'): 2, ('belokan', 'VB'): 4, ('Pada', 'IN'): 3, ('statusnya', 'NN'): 1, ('sasaran', 'NN'): 2, ('pukulan', 'NN'): 3, ('kekalahan', 'NN'): 2, ('kotak', 'NN'): 2, ('hit', 'NN'): 4, ('menyebabkan', 'VB'): 1, ('menenggelamkan', 'VB'): 3, ('berakhir', 'VB'): 6, ('mengakhiri', 'VB'): 3, ('tenggelamnya', 'NN'): 1, ('terakhir', 'OD'): 1, ('hangus', 'JJ'): 1, ('pertandingan', 'NN'): 1, ('Pemberitahuan', 'NN'): 1, ('mis', 'NN'): 1, ('memenangkan', 'VB'): 1, ('penelepon', 'NN'): 5, ('penyelia', 'NNP'): 2, ('Penelepon', 'NNP'): 2, ('apa', 'WH'): 2, ('pun', 'RP'): 3, ('belajar', 'VB'): 1, ('cara', 'NN'): 2, ('responsif', 'JJ'): 1, ('Di', 'NNP'): 1, ('TeleServices', 'NNP'): 1, ('Center', 'NNP'): 1, ('penyelia', 'PRP'): 1, ('112k', 'CD'): 1, ('12:00', 'CD'): 1, ('07:00', 'CD'): 1, ('23:59', 'CD'): 1, ('peramban', 'NN'): 1, ('Explorer', 'NNP'): 3, ('Navigator', 'NNP'): 1, ('pengawas', 'VB'): 6, ('mengiklankan', 'VB'): 2, ('slot', 'NN'): 4, ('kosong', 'JJ'): 4, ('pemanggil', 'JJ'): 1, ('beriklan', 'NN'): 2, ('Antarmuka', 'NN'): 7, ('sederhana', 'JJ'): 2, ('Dalam', 'IN'): 2, ('kegunaan', 'NN'): 4, ('penguji', 'VB'): 2, ('beta', 'NN'): 2, ('Layanan', 'NNP'): 3, ('Pemantauan', 'NNP'): 2, ('berbasis', 'VB'): 1, ('memantau', 'VB'): 1, ('pertukaran', 'NN'): 1, ('pesan', 'NN'): 11, ('memprediksi', 'VB'): 1, ('juga', 'RB'): 1, ('Kerangka', 'NNP'): 2, ('Pengembangan', 'NNP'): 2, ('Aplikasi', 'NNP'): 2, ('Kota', 'NNP'): 1, ('Chicago', 'NNP'): 1, ('Grafis', 'NNP'): 1, ('terstruktur', 'NNP'): 1, ('DBA', 'NNP'): 2, ('Pelacakan', 'NNP'): 1, ('Kesalahan', 'NNP'): 1, ('Portal', 'NNP'): 1, ('menganalisis', 'VB'): 1, ('ad-hoc', 'FW'): 1, ('KPI', 'NNP'): 1, ('Indikator', 'NNP'): 1, ('Kinerja', 'NNP'): 1, ('Utama', 'NNP'): 1, ('Pesan', 'NNP'): 1, ('Asinkron', 'NNP'): 1, ('asinkron', 'NN'): 1, ('paralel', 'JJ'): 1, ('overhead', 'NN'): 1, ('Multi-threading', 'NNP'): 1, ('Load', 'NNP'): 1, ('Balancing', 'NNP'): 1, ('multi-threading', 'NN'): 1, ('serta', 'CC'): 1, ('load', 'FW'): 1, ('balancing', 'FW'): 1, ('mengatasi', 'VB'): 1, ('lonjakan', 'NN'): 1, ('lalu', 'CC'): 1, ('lintas', 'NN'): 1, ('beban', 'NN'): 1, ('memproses', 'VB'): 3, ('polling', 'NN'): 1, ('polling', 'VB'): 1, ('Dukungan', 'NNP'): 1, ('Perubahan', 'NNP'): 2, ('Dinamis', 'NNP'): 2, ('sumber', 'NN'): 3, ('daya', 'NN'): 3, ('transparan', 'NN'): 1, ('Sumber', 'NNP'): 1, ('Daya', 'NNP'): 1, ('Transparan', 'NNP'): 1, ('skalabilitas', 'NN'): 1, ('Dasar', 'NNP'): 1, ('Pemikiran', 'NNP'): 1, ('tersibuk', 'NN'): 1, ('reguler', 'JJ'): 1, ('kuat', 'JJ'): 2, ('penghindaran', 'NN'): 1, ('adopsi', 'NN'): 1, ('toleransi', 'NN'): 2, ('teknik', 'NN'): 1, ('pemulihan', 'NN'): 1, ('kompensasi', 'NN'): 1, ('perutean', 'NN'): 1, ('juta', 'CD'): 1, ('khusus', 'JJ'): 1, ('platform', 'NN'): 3, ('segala', 'CD'): 1, ('pengembangan', 'NN'): 2, ('CSR', 'NNP'): 2, ('Datastream', 'NNP'): 1, ('bertukar', 'VB'): 1, ('EAM', 'NN'): 1, ('time', 'FW'): 1, ('berkala', 'NN'): 1, ('triwulanan', 'NN'): 1, ('arsitekturnya', 'NN'): 1, ('privasi', 'NN'): 1, ('enkripsi', 'NN'): 1, ('WS-Security', 'NNP'): 1, ('Integrity', 'FW'): 1, ('Checking', 'FW'): 1, ('pelacakan', 'VB'): 1, ('pencitraan', 'NN'): 1, ('merek', 'NN'): 1, ('IBM', 'NN'): 7, ('CCR', 'NNP'): 12, ('logo', 'NN'): 2, ('x', 'NN'): 1, ('600', 'CD'): 1, ('piksel', 'NN'): 1, ('nomenklatur', 'NN'): 3, ('WCS', 'NNP'): 18, ('meringkas', 'VB'): 1, ('dasbor', 'NN'): 1, ('fungsi', 'NN'): 1, ('seleksi', 'NN'): 1, ('diaktifkan', 'VB'): 1, ('mouse', 'FW'): 1, ('keyboard', 'FW'): 1, ('eport', 'NN'): 1, ('tombol', 'NN'): 4, ('diekspor', 'NN'): 1, ('instruksi', 'NN'): 1, ('singkat', 'JJ'): 1, ('mengingat', 'VB'): 1, ('Satu', 'CD'): 1, ('sesi', 'NN'): 1, ('penerapan', 'NN'): 2, ('tepat', 'JJ'): 2, ('didefinisikan', 'VB'): 2, ('Corporate', 'NNP'): 1, ('Community', 'NNP'): 1, ('Grants', 'NNP'): 1, ('menjalani', 'VB'): 1, ('tes', 'NN'): 1, ('W3', 'CD'): 2, ('intranet', 'NN'): 5, ('Sesuai', 'JJ'): 1, ('persetujuan', 'NN'): 1, ('cuti', 'VB'): 1, ('atasan', 'NN'): 1, ('Oleh', 'IN'): 1, ('posisi', 'NN'): 2, ('terpetakan', 'VB'): 1, ('LDAP', 'NNP'): 1, ('hirarki', 'NN'): 1, ('didalam', 'IN'): 1, ('WCS', 'FW'): 1, ('ditunjuk', 'VB'): 1, ('luar', 'NN'): 2, ('Serikat', 'NNP'): 2, ('diakses', 'NN'): 1, ('disetujui', 'VB'): 3, ('menjalankan', 'VB'): 2, ('2000', 'CD'): 1, ('atasnya', 'NN'): 1, ('Brio', 'NNP'): 2, ('mengekspor', 'VB'): 1, ('spreadsheet', 'NN'): 1, ('Microsoft', 'NNP'): 4, ('Lotus', 'NNP'): 1, ('1-2-3', 'CD'): 1, ('mengekspor', 'NN'): 1, ('.xls', 'FW'): 1, ('.123', 'CD'): 1, ('kueri', 'NN'): 1, ('Pertanyaan', 'NN'): 1, ('penyegaran', 'NN'): 1, ('Pengembang', 'NNP'): 1, ('tercermin', 'VB'): 2, ('Corporate', 'FW'): 2, ('Grants', 'FW'): 1, ('kata', 'VB'): 2, ('sandi', 'NN'): 2, ('mana', 'WH'): 1, ('Cookie', 'NNP'): 1, ('pemilik', 'NN'): 3, ('diautentikasi', 'NN'): 1, ('Komisaris', 'NNP'): 1, ('liga', 'CD'): 1, ('pengaturan', 'NN'): 1, ('liga', 'OD'): 3, ('indeks', 'NN'): 1, ('terkandung', 'VB'): 1, ('Papan', 'NN'): 1, ('Pesan', 'NN'): 1, ('150', 'CD'): 1, ('karakter', 'NN'): 1, ('‘', 'Z'): 2, ('tambahkan', 'VB'): 1, ('drop', 'FW'): 1, ('’', 'Z'): 2, ('and', 'FW'): 1, ('pemain', 'FW'): 1, ('dagang', 'NN'): 1, ('poin', 'NN'): 1, ('NFL', 'NNP'): 3, ('mengonfirmasi', 'NN'): 1, ('menjatuhkan', 'VB'): 1, ('memperdagangkan', 'VB'): 1, ('seperempat', 'NN'): 1, ('henti', 'NN'): 1, ('Database', 'FW'): 1, ('primer', 'FW'): 1, ('cache', 'NN'): 1, ('Basis', 'NN'): 1, ('sekunder', 'NN'): 1, ('historis', 'NN'): 1, ('Rabu', 'NNP'): 1, ('pertengahan', 'NN'): 1, ('musim', 'NN'): 2, ('Rilis', 'NN'): 1, ('dirilis', 'VB'): 1, ('RFS', 'NNP'): 11, ('24/7', 'CD'): 1, ('terutama', 'JJ'): 1, ('penganggaran', 'NN'): 4, ('sepanjang', 'IN'): 1, ('situasi', 'NN'): 1, ('dilaporkan', 'VB'): 1, ('workstation', 'NN'): 2, ('implementasi', 'NN'): 4, ('Ruang', 'NNP'): 1, ('Hard', 'NNP'): 1, ('Disk', 'NNP'): 1, ('Minimum', 'NNP'): 1, ('400MB', 'CD'): 1, ('Internet', 'NNP'): 2, ('5.0', 'CD'): 1, ('.NET', 'NNP'): 1, ('Framework', 'NNP'): 1, ('1.1', 'CD'): 1, ('Kontrol', 'NNP'): 1, ('Web', 'NNP'): 1, ('BDW', 'NNP'): 4, ('memuat', 'VB'): 1, ('file', 'NN'): 1, ('dimuat', 'VB'): 3, ('dimulainya', 'NN'): 1, ('Oktober', 'NNP'): 2, ('File', 'NNP'): 1, ('uji', 'VB'): 1, ('Perubahan', 'NN'): 1, ('pendapatan', 'NN'): 3, ('pengeluaran', 'NN'): 3, ('diterimanya', 'RB'): 1, ('dialokasikan', 'VB'): 1, ('pengujian', 'NN'): 1, ('perhitungan', 'NN'): 1, ('bersama', 'VB'): 1, ('proyek', 'NN'): 1, ('PCG', 'NNP'): 2, ('Finance', 'NNP'): 1, ('Cabang', 'NN'): 1, ('kompleks', 'NN'): 1, ('kabupaten', 'NN'): 1, ('daerah', 'NN'): 1, ('entitas', 'NN'): 1, ('disebutkan', 'VB'): 1, ('HANYA', 'NNP'): 1, ('UAS', 'NNP'): 1, ('Akses', 'NN'): 1, ('hirarki', 'NNP'): 1, ('diberi', 'VB'): 1, ('Akses', 'NNP'): 1, ('istimewa', 'NN'): 1, ('ENET', 'NNP'): 1, ('Securities', 'NNP'): 1, ('Arsitektur', 'NNP'): 1, ('sisanya', 'RB'): 2, ('diperbaiki', 'VB'): 2, ('Halaman', 'NN'): 1, ('800x600', 'CD'): 1, ('Dengan', 'IN'): 1, ('seminggu', 'NN'): 1, ('melebihi', 'VB'): 1}\n"
     ]
    }
   ],
   "source": [
    "with open('Hasil Tag\\Tag Korpus anotasi.txt', encoding='utf-8') as file:\n",
    "    korpus = file.readlines()\n",
    "korpus = [req.strip() for req in korpus]\n",
    "tagCount, wordTag, tagTrans = frekuensi(korpus)\n",
    "print(wordTag)\n",
    "# # print(tagCount)\n",
    "# # print(tagTrans)"
   ]
  },
  {
   "cell_type": "code",
   "execution_count": 13,
   "metadata": {},
   "outputs": [
    {
     "name": "stdout",
     "output_type": "stream",
     "text": [
      "{('<start>', 'NN'): 0.6655896607431341, ('NN', 'NN'): 0.32247557003257327, ('NN', 'CC'): 0.04209471310448509, ('CC', 'NN'): 0.55625, ('NN', 'MD'): 0.11751440741668755, ('MD', 'MD'): 0.07037457434733257, ('MD', 'VB'): 0.811577752553916, ('VB', 'NN'): 0.44990427568602426, ('NN', 'IN'): 0.07541969431220245, ('IN', 'NN'): 0.7603485838779956, ('VB', 'CD'): 0.042118698149329926, ('CD', 'NN'): 0.6177105831533477, ('<start>', 'VB'): 0.0032310177705977385, ('NN', 'SC'): 0.10749185667752444, ('SC', 'NN'): 0.16642958748221906, ('NN', 'Z'): 0.12402906539714358, ('SC', 'VB'): 0.5376955903271693, ('VB', 'IN'): 0.2227185705169113, ('NN', 'PR'): 0.03232272613380105, ('PR', 'Z'): 0.17142857142857143, ('<start>', 'SC'): 0.08723747980613894, ('SC', 'PRP'): 0.012802275960170697, ('PRP', 'VB'): 0.18, ('Z', 'NN'): 0.19234856535600425, ('SC', 'MD'): 0.112375533428165, ('VB', 'Z'): 0.0797702616464582, ('NN', 'JJ'): 0.04284640440992232, ('JJ', 'IN'): 0.20491803278688525, ('JJ', 'SC'): 0.12295081967213115, ('<start>', 'NNP'): 0.1260096930533118, ('NNP', 'MD'): 0.1652754590984975, ('Z', 'CC'): 0.03294367693942614, ('JJ', 'Z'): 0.25136612021857924, ('MD', 'JJ'): 0.07377979568671963, ('JJ', 'VB'): 0.15027322404371585, ('NN', 'VB'): 0.04610373340015034, ('CC', 'MD'): 0.0125, ('IN', 'NND'): 0.0032679738562091504, ('NND', 'NN'): 0.8378378378378378, ('PR', 'JJ'): 0.02142857142857143, ('VB', 'VB'): 0.042756860242501596, ('IN', 'CD'): 0.11655773420479303, ('CC', 'NEG'): 0.05625, ('NEG', 'VB'): 0.3614457831325301, ('IN', 'Z'): 0.0054466230936819175, ('NNP', 'SC'): 0.05175292153589316, ('VB', 'NEG'): 0.005105296745373325, ('NEG', 'MD'): 0.24096385542168675, ('NEG', 'JJ'): 0.18072289156626506, ('VB', 'NND'): 0.0025526483726866626, ('VB', 'SC'): 0.058710912571793235, ('PR', 'MD'): 0.6214285714285714, ('SC', 'JJ'): 0.03982930298719772, ('SC', 'CC'): 0.001422475106685633, ('CC', 'RB'): 0.021875, ('RB', 'SC'): 0.022388059701492536, ('SC', 'NEG'): 0.01849217638691323, ('<start>', 'NND'): 0.011308562197092083, ('NN', 'CD'): 0.023803558005512402, ('NN', 'PRP'): 0.008268604359809572, ('PRP', 'CC'): 0.02, ('PRP', 'NN'): 0.1, ('PR', 'IN'): 0.03571428571428571, ('JJ', 'NN'): 0.07923497267759563, ('IN', 'PR'): 0.0010893246187363835, ('Z', 'Z'): 0.010626992561105207, ('NN', 'NNP'): 0.026309195690303183, ('NNP', 'Z'): 0.15525876460767946, ('Z', 'SC'): 0.023379383634431455, ('SC', 'CD'): 0.051209103840682786, ('Z', 'VB'): 0.015940488841657812, ('VB', 'CC'): 0.0204211869814933, ('PRP', 'SC'): 0.1, ('PR', 'SC'): 0.014285714285714285, ('PR', 'VB'): 0.08571428571428572, ('CC', 'VB'): 0.115625, ('IN', 'NNP'): 0.058823529411764705, ('NNP', 'NNP'): 0.3973288814691152, ('NNP', 'IN'): 0.04340567612687813, ('NNP', 'VB'): 0.03171953255425709, ('NNP', 'NN'): 0.015025041736227046, ('CC', 'CD'): 0.04375, ('IN', 'JJ'): 0.02832244008714597, ('JJ', 'CC'): 0.06284153005464481, ('CC', 'JJ'): 0.040625, ('<start>', 'CD'): 0.05331179321486268, ('<start>', 'IN'): 0.011308562197092083, ('VB', 'MD'): 0.012125079770261647, ('CD', 'SYM'): 0.16414686825053995, ('SYM', 'NN'): 0.20512820512820512, ('NN', 'OD'): 0.003006765221748935, ('OD', 'SC'): 0.23076923076923078, ('CD', 'VB'): 0.01079913606911447, ('NNP', 'NEG'): 0.015025041736227046, ('NEG', 'RB'): 0.20481927710843373, ('RB', 'IN'): 0.2537313432835821, ('CD', 'IN'): 0.017278617710583154, ('Z', 'IN'): 0.019128586609989374, ('Z', 'NNP'): 0.06376195536663125, ('NNP', 'CC'): 0.0651085141903172, ('CC', 'NNP'): 0.08125, ('NNP', 'CD'): 0.028380634390651086, ('CD', 'NNP'): 0.012958963282937365, ('Z', 'CD'): 0.05844845908607864, ('Z', 'PR'): 0.004250797024442083, ('NN', 'NEG'): 0.005512402906539714, ('SC', 'RB'): 0.029871977240398292, ('RB', 'NN'): 0.12686567164179105, ('<start>', 'RB'): 0.024232633279483037, ('SC', 'IN'): 0.008534850640113799, ('PR', 'RB'): 0.014285714285714285, ('RB', 'MD'): 0.09701492537313433, ('NN', 'RB'): 0.00601353044349787, ('NEG', 'NN'): 0.012048192771084338, ('PRP', 'Z'): 0.22, ('CD', 'NND'): 0.032397408207343416, ('CD', 'Z'): 0.06911447084233262, ('VB', 'JJ'): 0.01148691767708998, ('CC', 'Z'): 0.025, ('Z', 'NND'): 0.0021253985122210413, ('VB', 'PRP'): 0.0019144862795149968, ('PRP', 'MD'): 0.12, ('IN', 'VB'): 0.00980392156862745, ('RB', 'Z'): 0.1044776119402985, ('VB', 'RB'): 0.008934269304403318, ('RB', 'VB'): 0.1791044776119403, ('SYM', 'IN'): 0.6666666666666666, ('Z', 'RB'): 0.0021253985122210413, ('RB', 'CD'): 0.05223880597014925, ('JJ', 'MD'): 0.03825136612021858, ('IN', 'RB'): 0.0032679738562091504, ('NN', 'FW'): 0.005512402906539714, ('FW', 'Z'): 0.24468085106382978, ('CD', 'CD'): 0.028077753779697623, ('OD', 'Z'): 0.38461538461538464, ('RB', 'FW'): 0.007462686567164179, ('FW', 'NN'): 0.09574468085106383, ('VB', 'NNP'): 0.01914486279514997, ('Z', 'JJ'): 0.0021253985122210413, ('PRP', 'IN'): 0.2, ('CD', 'CC'): 0.032397408207343416, ('JJ', 'CD'): 0.040983606557377046, ('Z', 'FW'): 0.005313496280552604, ('CC', 'FW'): 0.025, ('FW', 'SC'): 0.0851063829787234, ('FW', 'FW'): 0.2978723404255319, ('NND', 'Z'): 0.02702702702702703, ('FW', 'CD'): 0.010638297872340425, ('VB', 'FW'): 0.007657945118059987, ('NND', 'IN'): 0.02702702702702703, ('Z', 'MD'): 0.0021253985122210413, ('SC', 'NNP'): 0.001422475106685633, ('<start>', 'FW'): 0.008077544426494346, ('NNP', 'JJ'): 0.00333889816360601, ('MD', 'NEG'): 0.0056753688989784334, ('NNP', 'PR'): 0.005008347245409015, ('IN', 'FW'): 0.0054466230936819175, ('<start>', 'MD'): 0.0032310177705977385, ('SC', 'FW'): 0.008534850640113799, ('FW', 'IN'): 0.07446808510638298, ('MD', 'IN'): 0.01362088535754824, ('SYM', 'Z'): 0.01282051282051282, ('JJ', 'RB'): 0.00273224043715847, ('NNP', 'RB'): 0.005008347245409015, ('MD', 'RB'): 0.02043132803632236, ('RB', 'JJ'): 0.09701492537313433, ('Z', 'NEG'): 0.003188097768331562, ('CC', 'IN'): 0.0125, ('PR', 'NN'): 0.007142857142857143, ('NN', 'WH'): 0.0012528188423953897, ('WH', 'FW'): 0.16666666666666666, ('FW', 'VB'): 0.0425531914893617, ('FW', 'CC'): 0.05319148936170213, ('RB', 'RB'): 0.029850746268656716, ('OD', 'NN'): 0.15384615384615385, ('<start>', 'CC'): 0.0016155088852988692, ('VB', 'PR'): 0.0012763241863433313, ('IN', 'SC'): 0.0032679738562091504, ('FW', 'MD'): 0.05319148936170213, ('SYM', 'NEG'): 0.01282051282051282, ('MD', 'NN'): 0.0011350737797956867, ('NND', 'NND'): 0.02702702702702703, ('CD', 'SC'): 0.004319654427645789, ('MD', 'SC'): 0.0022701475595913734, ('PR', 'CC'): 0.007142857142857143, ('FW', 'PRP'): 0.010638297872340425, ('IN', 'NEG'): 0.0010893246187363835, ('SC', 'Z'): 0.001422475106685633, ('IN', 'PRP'): 0.002178649237472767, ('<start>', 'PRP'): 0.0016155088852988692, ('MD', 'CD'): 0.0011350737797956867, ('PRP', 'RB'): 0.02, ('RB', 'CC'): 0.007462686567164179, ('RB', 'NNP'): 0.007462686567164179, ('NN', 'SYM'): 0.00025056376847907793, ('SYM', 'CD'): 0.038461538461538464, ('CC', 'SYM'): 0.003125, ('CD', 'JJ'): 0.0064794816414686825, ('<start>', 'NEG'): 0.0016155088852988692, ('CD', 'FW'): 0.0021598272138228943, ('JJ', 'JJ'): 0.01092896174863388, ('SC', 'NND'): 0.004267425320056899, ('VB', 'DT'): 0.0025526483726866626, ('DT', 'NN'): 1.0, ('JJ', 'NEG'): 0.00273224043715847, ('PRP', 'JJ'): 0.02, ('VB', 'WH'): 0.0006381620931716656, ('WH', 'NN'): 0.3333333333333333, ('JJ', 'OD'): 0.00273224043715847, ('SC', 'SC'): 0.001422475106685633, ('CC', 'NND'): 0.003125, ('WH', 'RP'): 0.5, ('RP', 'IN'): 0.3333333333333333, ('SYM', 'VB'): 0.02564102564102564, ('CC', 'CC'): 0.003125, ('IN', 'IN'): 0.0010893246187363835, ('RP', 'SC'): 0.3333333333333333, ('OD', 'PRP'): 0.07692307692307693, ('<start>', 'JJ'): 0.0016155088852988692, ('SC', 'PR'): 0.001422475106685633, ('NN', 'NND'): 0.00025056376847907793, ('FW', 'JJ'): 0.010638297872340425, ('PR', 'NEG'): 0.007142857142857143, ('RP', 'Z'): 0.3333333333333333, ('OD', 'IN'): 0.07692307692307693, ('OD', 'CC'): 0.07692307692307693, ('SYM', 'RB'): 0.02564102564102564}\n"
     ]
    }
   ],
   "source": [
    "probabilityTrans = dictProbTransition(tagTrans,tagCount)\n",
    "probabilityEmission = dictProbEmission(wordTag, tagCount)\n",
    "\n",
    "print(probabilityTrans)\n",
    "# print(probabilityEmission)"
   ]
  },
  {
   "cell_type": "code",
   "execution_count": 14,
   "metadata": {},
   "outputs": [
    {
     "name": "stdout",
     "output_type": "stream",
     "text": [
      "['administrator', 'sistem', 'dan', 'anggota', 'staf', 'keperawatan', 'harus', 'dapat', 'menambahkan', 'daftar', 'siswa', 'ke', 'dalam', 'kategori', 'satu', 'Menambahkan', 'menjadi', 'syarat', 'untuk', 'studi', '.', 'menentukan', 'urutan', 'kelas', 'yang', 'disukai', 'tertentu', 'Untuk', 'masing-masing', ',', 'kuartal', 'dari', 'akan', 'ditawarkan', 'baru', 'sudah', 'ada', 'klinis', 'atau', 'bagian', 'pada', 'diidentifikasi', 'awal', 'bulan', 'tahun', 'departemen', 'Kelas', 'berupa', 'non-klinis', 'persyaratan', 'ruang', 'kuliah', 'nama', 'kebutuhan', 'instruktur', 'menetapkan', 'kursus', 'klinik', 'lab', 'Administrator', '/', 'mampu', 'membuat', 'program', 'Program', 'terdiri', 'diperlukan', '(', 'baik', ')', 'diselesaikan', 'memiliki', 'kemampuan', 'sebuah', 'Sistem', 'ini', 'menampilkan', 'laporan', 'dibutuhkan', 'jangka', 'waktu', 'diberikan', 'berdasarkan', 'seluruh', 'tujuan', 'perencanaan', 'Laporan', 'namun', 'tidak', 'terbatas', 'meliputi', 'jumlah', 'laboratorium', 'jenis', 'ruangan', 'bertentangan', 'dengan', 'hari', 'situs', 'informasi', 'kontak', 'Bagian', 'mencakup', 'seorang', 'mahasiswa', 'telah', 'terdaftar', 'tersebut', 'memungkinkan', 'menghapus', 'memindahkan', 'lain', 'sesuai', 'sama', 'membatalkan', 'jika', 'hanya', 'Seorang', 'mengelola', 'data', 'kemajuan', 'paruh', 'modifikasi', 'mereka', 'jadwal', 'ringkasan', 'dicetak', 'penyelesaian', 'tentang', 'diselenggarakan', 'di', 'lokasi', 'selama', 'Informasi', 'umum', 'diadakan', 'tanggal', 'semua', 'sana', 'nomor', 'ID', 'penerimaan', 'kredit', 'IPK', 'dimana', 'log', 'berisi', 'e-mail', 'telepon', 'orang', 'terkait', 'termasuk', 'menggunakan', 'alamat', 'disimpan', 'sebagai', 'sarana', 'utama', 'penyebaran', 'kepada', 'pihak', 'bersangkutan', 'memberitahukan', 'keperluan', 'komunikasi', 'rutin', 'menginformasikan', 'datang', 'tiba', 'ketika', 'terjadi', 'perubahan', 'mempengaruhi', 'kapasitas', 'pembatalan', 'terkena', 'dampak', 'rincian', 'penawaran', 'kelompok', 'minggu', 'dibatalkan', 'karena', 'sedang', 'sakit', 'tetapi', 'mengubah', 'status', 'penuh', 'berbeda', 'berkaitan', 'identitatas', 'perempat', 'bahwa', 'mengambil', 'Studi', 'Departemen', 'Keperawatan', 'Situs', 'penghubung', 'Mahasiswa', 'Aplikasi', 'Sengketa', 'mematuhi', 'standar', 'perusahaan', 'pembuatan', 'antarmuka', 'pengguna', 'aplikasi', 'digunakan', 'secara', 'internal', 'eksternal', 'Semua', 'layar', 'dibuat', 'sengketa', 'Daftar', 'kasus', 'ditampilkan', 'setelah', 'pencarian', 'dilakukan', 'kode', 'warna', 'memudahkan', 'identifikasi', '100', '%', 'perwakilan', 'pedagang', 'teratur', 'pelatihan', '2', 'layanan', 'Anggota', 'berhasil', 'pertemuan', 'pertama', 'menyelesaikan', 'melakukan', 'tindak', 'lanjut', 'atas', 'Waktu', 'tunggu', 'maksimum', 'navigasi', 'lebih', '5', 'detik', 'mendukung', '350', 'akses', 'bersamaan', 'tanpa', 'penurunan', 'performansi', 'tersedia', '24x7x365', 'pengecualian', 'perawatan', 'berikut', 'Senin', '-', 'Sabtu', '03:00-04:00', 'AM', 'EST', 'Minggu', '01:00', 'sampai', '05:00', 'basis', 'pernyataan', 'Basis', 'menyediakan', 'transaksi', 'seng', 'diperoleh', 'rinci', 'mengenai', 'berkenaan', 'Surat', 'Ini', 'meminta', 'surat', 'inisiasi', 'proses', 'permintaan', 'dikirim', 'Print', 'Letter', 'Utility', 'berinteraksi', 'penagihan', 'pengiriman', 'penyesuaian', 'akun', 'Pengiriman', 'Penagihan', 'memastikan', 'tingkat', 'diperbolehkan', 'memulai', 'Hanya', 'Pembaruan', 'berwenang', 'diizinkan', 'masuk', 'resmi', 'pernah', 'diautentikasi', 'menghasilkan', 'setiap', 'ditambahkan', 'apapun', 'terhadap', 'ditinjau', 'audit', 'penambahan', 'dicatat', 'Jika', 'dicabut', 'maka', 'dipakai', 'ulang', 'oleh', 'mengatur', 'memanipulasi', 'melihat', 'bisnis', 'Pengguna', 'langsung', 'berkas', 'pembaruan', 'dimulai', 'hukum', 'sebagaimana', 'ditentukan', 'Peraturan', 'Operasi', 'Dagang', 'aturan', 'ditetapkan', 'E', 'Z', 'pemrosesan', 'kartu', 'pedoman', 'mempertahankan', 'riwayat', 'terperinci', 'tindakan', 'Hal', 'jejak', 'lengkap', 'muncul', 'pertanyaan', 'riyawat', 'diakses', 'mencegah', 'mengakses', 'bukan', 'milik', 'pemegang', 'memfasilitasi', 'entri', 'melalui', 'respon', 'nyata', 'tampilan', 'bagi', 'memilih', 'diperdebatkan', 'usia', 'pengambilan', 'tiket', 'pemberitahuan', 'tagihan', 'dipilih', 'memberikan', 'tunggal', 'beberapa', 'Sebagai', 'memasukkan', 'Permintaan', 'adalah', 'dokumen', 'menanyakan', 'keabsahan', 'tiga', 'unik', 'Ketiga', '1', 'tanda', 'terima', 'asli', 'salinan', '3', 'portofolio', 'Sebuah', 'dokumentasi', 'bukti', 'pembelian', 'seperti', 'diterima', 'agen', 'penyewaan', 'mobil', 'penjualan', 'dibatasi', 'konfirmasi', 'saat', ';', 'diminta', 'jatuh', 'tempo', 'notifikasi', 'menunjukkan', 'ditagih', 'kembali', 'dipersengketakan', 'sah', 'tertunda', 'terciptanya', 'duplikat', 'akurat', 'alasan', 'kemungkinan', 'diturunkan', 'industri', 'fungsionalitas', 'Metode', 'mencari', 'rekening', 'Kartu', '4', 'penerbit', 'Selain', 'kriteria', 'membatasi', 'hasil', 'rentang', 'tutup', 'terbuka', 'memenuhi', 'dimasukkan', 'disediakan', 'membedakan', 'item', 'baris', 'Misalnya', 'berwarna', 'kuning', 'tertutup', 'abu-abu', 'kegiatan', 'menindaklanjuti', 'disaring', 'mencatat', 'aktivitas', 'memodifikasi', 'Riwayat', 'diambil', 'dipertahankan', 'sistematis', 'non-pengguna', 'penuaan', 'dihasilkan', 'Setelah', 'berikutnya', 'diberitahu', 'diformat', 'Setiap', 'ditutup', '6', 'dibersihkan', 'online', 'menyegarkan', '60', 'mencocokkan', 'Keamanan', 'Dalam', 'Negeri', 'diproyeksikan', '10x10', '90', 'membaca', 'jarak', 'pandang', '30', 'cm', 'produk', 'jam', 'kerja', 'normal', '99', 'total', 'operasional', 'enam', 'memahami', 'Acara', 'Kegiatan', 'antara', 'jalur', 'Produk', 'intuitif', 'jelas', 'aktifitas', 'menit', 'sejak', 'mulai', 'merespon', 'cepat', 'tetap', 'up-to-date', 'bentuk', 'MDI', 'grafik', 'tabel', 'meja', 'vertikal', 'Layar', 'dua', 'area', ':', '2/3', 'grafis', '1/3', 'Data', 'kedua', 'node', 'MSEL', 'Sisi', 'dibagi', 'wilayah', 'sekuensial', 'temporal', '1/4', 'mengadakan', 'acara', 'berurutan', 'bawah', '3/4', 'peristiwa', 'menurut', 'relevansinya', 'varians', 'Sync', 'Matrix', '1.0', 'Alat', 'Manajemen', 'Latihan', 'menghubungkan', 'Events', 'salah', 'menawarkan', 'latihan', 'menyaring', 'Venues', 'kunci', 'segmen', 'lokal', 'terpisah', 'berhenti-sementara', 'pause', 'melanjutkan', 'direfresh', 'kejadian', 'asumsi', 'rekam', 'Tampilan', 'tema', 'perangkat', 'pintar', 'Tombol', 'menu', 'antar', 'muka', 'profesional', 'skema', 'font', 'konsisten', 'mudah', 'Realtors', 'karakteristik', 'memberi', 'penjelasan', 'sendiri', 'self', 'explanatory', 'dipelajari', 'makelar', 'simbol-simbol', 'kata-kata', 'dipahami', 'alami', 'Hasil', 'dikembalikan', 'selambat', 'CMA', 'lambatnya', 'sinkronisasi', 'janji', 'kantor', '24', 'per', '365', 'Dari', '1000', '999', 'kali', 'beroperasi', 'modus', 'offline', 'koneksi', 'internet', 'download', 'sebelumnya', 'menyimpan', 'preferensi', 'hal', 'kegagalan', 'dipulihkan', 'jauh', 'dukungan', 'simultan', 'menangani', 'Jumlah', 'diperkirakan', 'tumbuh', 'depan', 'dipasang', 'terlatih', 'jalan', 'petunjuk', 'terpisah-dicetak', 'belum', 'mendapat', 'menginstal', 'media', 'bantuan', 'diharapkan', 'berjalan', 'operasi', 'Palm', 'Windows', 'CE', 'otentikasi', 'otorisasi', 'benar', 'diperkenalkan', 'real', 'estate', 'MLS', 'arah', 'mengemudi', 'properti', 'men-download', 'kesepakatan', 'klien', 'gambar', 'memperbaruhi', 'Makelar', 'menelepon', 'penjual', 'pembeli', 'menjadwalkan', 'diberitahukan', 'otomatis', 'peta', 'memberitahu', 'apabila', 'Staf', 'membantu', 'menghindari', 'kesalahan', 'penjadwalan', 'penajdwalan', 'klinikal', 'menurun', '50', 'bersifat', 'simbol', 'komunitas', '``', 'Verbiage', \"''\", 'Standar', 'bahasa', 'Inggris', 'terminologi', 'Komunitas', 'nasional', 'serangkaian', 'tugas', 'respons', 'fitur', 'manajemen', '08:00', '18:00', 'mencapai', '95', 'melayani', '10', '09:00-05:00', 'memproses', 'kurikulum', 'minimal', 'lingkungan', 'khas', 'DePaul', 'University', 'spesifikasi', 'komputer', 'XP', 'Professional', 'server', 'pusat', 'CampusConnect', 'fakultas', 'master', 'Harus', 'browser', 'HTML', 'satu-satunya', 'pribadi', 'Dr', 'Susan', 'Poslusny', 'Julie', 'Donalek', 'interface', 'Fit', 'Kriteria', 'Karen', 'Sysol', 'kepenjadwalan', 'akhir', 'berhubungan', 'integritas', 'mengurangi', 'valid', 'melindungi', 'kebijakan', 'organisasi', 'keamanan', 'gangguan', 'membahayakan', 'Internet', 'Explorer', 'versi', '5.5', 'diatasnya', 'Mozilla', 'Firefox', 'Versi', 'Pemilihan', 'umpan', 'daur', 'keras', 'Arsitektur', 'Panduan', 'Antarmuka', 'korporat', 'terlihat', 'Penyesuai', 'Pengukur', 'Tumbukan', 'Adjusters', 'Collision', 'Estimator', 'menemukan', 'meningkatkan', 'produktivitas', '80', 'menyetujui', 'peningkatan', 'merasa', 'puas', '85', 'tempat', 'Bantuan', 'ditemukan', 'Pencarian', 'memakan', '15', 'fasilitas', 'perbaikan', '8', 'Pasilitas', 'Peringkat', 'Simpan', 'ketersediaan', '98', 'pemadaman', 'terjadwal', 'aktif', 'boleh', 'gagal', 'hingga', '1500', 'iniharus', 'bekerja', 'rata-rata', 'catatan', '50000', '10000', 'peluncurannya', 'penduga', 'dioperasikan', 'kondisi', 'kotor', 'bising', 'sekali', 'sehari', 'sekitar', 'pukul', 'Pemeliharaan', 'berada', 'jendela', 'pemeliharaan', 'pasti', 'didukung', 'instalasi', 'upgrade', 'ditangani', 'tim', 'teknologi', 'middleware', 'frame', 'peluncuran', 'didirikan', 'adjuster', 'Tidak', 'peran', 'pengawas', 'memperbarui', 'peringkat', 'estimator', 'tabrakan', 'Salah', 'asuransi', 'companys', 'mengklaim', 'bebas', 'virus', 'serangan', 'berbahaya', 'penolakan', 'Sarbanes-Oxley', 'undang-undang', 'estimatics', 'penggunaan', 'peraturan', 'pengolahan', 'klaim', 'kendaraan', 'jari-jari', 'mil', 'model', 'Lokasi', 'negara', 'kota', 'pos', 'diketahui', 'Radius', 'tertinggi', 'masukan', 'estimasi', 'menimpa', 'facitlity', 'radius', 'rusak', 'suku', 'cadang', 'pemasok', 'Tersedia', 'berlaku', 'terpilih', 'komponen', 'meninjau', 'perkiraan', 'pemeriksaan', 'bagian-bagian', 'persentase', 'skor', 'merangkum', 'indivual', 'titik-titik', 'kemudian', 'set', 'kosong', 'skala', '1-10', 'percobaan', 'aktual', 'diselamatkan', 'kebanyakan', 'database', 'DBMS', 'pasar', 'apakah', 'colocated', 'mesin', 'terletak', 'jaringan', 'berfungsi', 'bersama', 'lunak', 'runtime', 'Java', 'diinstal', 'membutuhkan', 'kerjasama', 'mungkin', 'memanfaatkan', 'web', 'contoh', 'open', 'source', 'Apache', 'Tomcat', 'JBoss', 'Oracle', 'DB2', 'MySql', 'HSQL', 'perlu', 'diintegrasikan', 'Lihatlah', 'Rasakan', 'menggabungkan', 'aspek', 'pelanggan', 'logo', 'branding', 'identitas', 'penampilan', 'konservatif', 'ingin', 'menggunakannya', 'disurvei', 'pasca-peluncuran', 'memesan', 'konferensi', 'balik', 'bila', 'melaporkan', 'menegaskan', 'target', 'kustomisasi', 'halaman', 'pandangan', 'karyawan', 'informal', 'kurang', 'setup', 'akrab', 'paling', 'Amerika', 'Disabilities', 'Act', 'Tanggapan', 'cukup', 'mengganggu', 'aliran', 'pemikiran', '99,99', 'masalah', 'dihadapi', 'transmisi', 'kami', 'analisis', 'resolusi', '000', 'meningkat', 'Rilis', 'Kapasitas', 'konkurensi', 'puncak', 'pagi', 'sore', '20', 'Release', 'setidaknya', 'mengirimkan', 'diuji', 'minimum', 'menguji', 'berbagai', 'berkomunikasi', 'sukses', 'email', 'mengirim', 'distribusi', 'biner', 'file', 'ZIP', 'sangat', 'dikonfigurasi', 'mengintegrasikan', 'software', 'rilis', 'setahun', '70', 'solusi', 'Pelanggan', 'gedung', 'siklus', 'hidup', 'Integrasi', 'sedikit', 'diterjemahkan', 'asing', 'selain', 'negara-negara', 'mendatang', 'berkembang', 'itu', 'mengkonfigurasi', 'SQL', 'Server', 'MySQL', 'MS', 'Access', 'perusahaan-disetujui', 'login', 'pengelola', 'pemesanan', 'reservasi', 'input', 'berdekatan', 'hardware', 'tergantung', 'filesystem', 'kecelakaan', 'menerima', 'ancaman', 'dikirimkan', 'Bahasa', 'mengakomodasi', 'responden', 'survei', 'kalender', 'format', 'dikembangkan', 'J2SE', 'J2EE', 'perpustakaan', 'pemrograman', 'merekam', 'rapat', 'undangan', 'pengingat', 'menugaskan', 'penyelenggara', 'buat', 'ucapan', 'kasih', 'peralatan', 'kamar', 'organizer', 'mengundang', 'dicadangkan', 'diperbarui', 'mencerminkan', 'transportasi', 'membangun', 'agenda', 'parameter', 'wajib', 'personil', 'bangunan', 'priviledged', 'pelaporan', 'metode', 'disesuaikan', 'unreserved', 'Rekreasi', 'Persediaan', 'Penyesuaian', 'periode', 'dimiliki', 'cadangan', 'mengembalikan', 'menjaga', 'password', 'izin', 'granularly', 'mengontrol', 'hak', 'subsistem', 'Itu', 'mendapatkan', 'independen', 'akuntansi', 'final', 'melewati', 'auditor', 'bersertifikat', 'memerlukan', 'lisensi', 'ketiga', 'tambahan', 'mengakibatkan', 'biaya', 'royalti', 'generasi', 'Inventarisasi', 'titik', 'The', 'IQA', 'memperhitungkan', 'persediaan', 'menyesuaikan', 'bahan', 'penebusan', 'memasuki', 'formula', 'semi-produk', 'rumus', 'mendefinisikan', 'Formula', 'PFE', 'Bahan', 'Rumus', 'agar', 'bertahan', 'terminal', 'POS', 'PME', 'Subsystem', 'submenu', 'dikelola', 'RMS', 'GUI', 'berjangka', 'penggunaannya', 'sehari-hari', 'harian', 'Penjualan', 'mengaktifkan', 'pra-bayar', 'Administrasi', 'Nasabah', 'memeriksa', 'prabayar', 'PIN', 'membiarkan', 'mendaftar', 'website', '“', 'bayar', 'Anda', 'pergi', '”', 'unlimited', 'film', 'account', 'Database', 'menandai', 'de-mengaktifkan', 'lagi', 'sekarang', 'menambah', 'Izogn', 'Manager', 'statistik', 'pin', 'Excel', 'Website', 'menarik', 'khalayak', 'menyenangkan', 'cerah', 'bersemangat', 'nuansa', 'Afrika', 'mengasingkan', 'non-Afrika', 'animasi', 'menggambarkan', 'merebut', 'perhatian', 'mendorong', 'Desain', 'modern', 'bersih', 'ringkas', 'pemula', 'menavigasi', 'maksimal', 'streaming', 'klik', 'in', 'anonim', 'nyaman', 'beli', 'Streaming', 'membeli', 'sebulan', 'keterampilan', 'menonton', 'dimengerti', 'konvensi', 'kecuali', 'Ketika', 'Saat', 'penyangga', 'ditambah', 'latency', 'Sementara', 'seharusnya', 'sehubungan', 'dijamin', 'dienkripsi', '99,5', 'dialirkan', 'sepanjang', 'terus', 'turun', 'gateway', 'pembayaran', '700', 'banyak', '100.000', 'anggaran', 'Perangkat', 'Kita', 'IE', '5.X', '6.0', 'Netscape', '6.x', '7.x', '8.x', 'CyberSource', 'API', 'sepenuhnya', 'MSN', 'TV2', 'Film', 'dikodekan', 'Media', 'Player', '9.0', 'stream', '56k', '256k', 'promosi', 'pulsa', '800', 'pelanggannya', 'jawaban', 'Velkat', '7', 'malam', 'M-F', 'teknis', 'membelinya', 'personel', 'dirinya', 'penyalahgunaan', 'disengaja', 'tahu', 'Skrip', 'dijalankan', 'memverifikasi', 'penggunanya', 'mengetahui', 'praktik', 'informasinya', 'sebelum', 'mengumpulkan', 'Kebijakan', 'Privasi', 'mengungkapkan', 'aman', 'anti-virus', 'infeksi', 'Nigeria', 'menyinggung', 'agama', 'etnis', 'Flash', 'beranda', 'IzognMovies', 'W3C', 'Kode', 'PHP', 'PEAR', 'aktor', 'sutradara', 'detail', 'deskripsi', 'mengesahkan', 'mengizinkan', 'memutar', 'dibeli', 'menelusuri', 'izogn', 'ulasan', 'diposting', 'membayar', 'senilai', '$', 'opsi', 'Jumat', 'terbaru', 'Akun', 'Saya', 'didistribusikan', 'kertas', 'cetak', 'gratis', 'Manajer', 'bahkan', 'Statistik', 'Pemilik', 'Total', 'timbal', 'volume', 'timah', '8:00', 'CST', '8PM', 'evaluasi', 'lead', 'selesai', '25', '97', 'diproses', 'prosesnya', 'lama', 'durasi', 'Proses', 'Penugasan', 'Rep', 'Otomatis', 'mana', 'ditempatkan', 'pencucian', 'struktur', 'fisik', 'mapan', 'netral', 'mengikat', 'xml', 'cacat', 'unit', '24x7', 'Parameter', 'Vendor', 'menyerahkan', 'validasi', 'diterapkan', 'suatu', 'dinilai', 'kisaran', 'tinggi', 'memasok', 'Fungsionalitas', 'cuci', 'memvalidasi', 'mencuci', 'ditangkap', 'ARA', 'arahan', 'verifikasi', 'manual', 'Koordinator', 'Pendaftaran', 'eleads', 'rendah', 'vendor', 'Fungsi', 'mengkompilasi', 'penilaian', 'akademik', 'sekolah', 'mencetak', 'hitam', 'dipasok', 'beserta', 'penolakannya', 'potensi', 'Sebelum', 'repetisi', 'mensimulasikan', 'kapal', 'laut', 'kisi-kisi', 'lingkaran', 'periskop', 'kisi', 'pemain', 'ofensif', 'tembakan', 'suara', 'ditandai', 'kehilangan', 'targetnya', 'tenggelam', 'tujuh', 'seminggu', 'sejumlah', 'besar', 'game', 'alur', 'permainan', 'tanggapan', 'sisa', 'Sembilan', 'sepuluh', 'mengerti', 'Spanyol', 'Perancis', 'memelihara', 'mengidentifikasi', 'para', 'ditugaskan', 'garis', 'pertahanan', 'grid', 'defensif', 'memposisikan', 'horizontal', 'diagonal', 'tumpang', 'tindih', 'giliran', 'belokan', 'Pada', 'statusnya', 'sasaran', 'pukulan', 'kekalahan', 'kotak', 'hit', 'menyebabkan', 'menenggelamkan', 'berakhir', 'mengakhiri', 'tenggelamnya', 'terakhir', 'hangus', 'pertandingan', 'Pemberitahuan', 'mis', 'memenangkan', 'penelepon', 'penyelia', 'Penelepon', 'apa', 'pun', 'belajar', 'cara', 'responsif', 'Di', 'TeleServices', 'Center', '112k', '12:00', '07:00', '23:59', 'peramban', 'Navigator', 'mengiklankan', 'slot', 'pemanggil', 'beriklan', 'sederhana', 'kegunaan', 'penguji', 'beta', 'Layanan', 'Pemantauan', 'berbasis', 'memantau', 'pertukaran', 'pesan', 'memprediksi', 'juga', 'Kerangka', 'Pengembangan', 'Kota', 'Chicago', 'Grafis', 'terstruktur', 'DBA', 'Pelacakan', 'Kesalahan', 'Portal', 'menganalisis', 'ad-hoc', 'KPI', 'Indikator', 'Kinerja', 'Utama', 'Pesan', 'Asinkron', 'asinkron', 'paralel', 'overhead', 'Multi-threading', 'Load', 'Balancing', 'multi-threading', 'serta', 'load', 'balancing', 'mengatasi', 'lonjakan', 'lalu', 'lintas', 'beban', 'polling', 'Dukungan', 'Perubahan', 'Dinamis', 'sumber', 'daya', 'transparan', 'Sumber', 'Daya', 'Transparan', 'skalabilitas', 'Dasar', 'Pemikiran', 'tersibuk', 'reguler', 'kuat', 'penghindaran', 'adopsi', 'toleransi', 'teknik', 'pemulihan', 'kompensasi', 'perutean', 'juta', 'khusus', 'platform', 'segala', 'pengembangan', 'CSR', 'Datastream', 'bertukar', 'EAM', 'time', 'berkala', 'triwulanan', 'arsitekturnya', 'privasi', 'enkripsi', 'WS-Security', 'Integrity', 'Checking', 'pelacakan', 'pencitraan', 'merek', 'IBM', 'CCR', 'x', '600', 'piksel', 'nomenklatur', 'WCS', 'meringkas', 'dasbor', 'fungsi', 'seleksi', 'diaktifkan', 'mouse', 'keyboard', 'eport', 'tombol', 'diekspor', 'instruksi', 'singkat', 'mengingat', 'Satu', 'sesi', 'penerapan', 'tepat', 'didefinisikan', 'Corporate', 'Community', 'Grants', 'menjalani', 'tes', 'W3', 'intranet', 'Sesuai', 'persetujuan', 'cuti', 'atasan', 'Oleh', 'posisi', 'terpetakan', 'LDAP', 'hirarki', 'didalam', 'ditunjuk', 'luar', 'Serikat', 'disetujui', 'menjalankan', '2000', 'atasnya', 'Brio', 'mengekspor', 'spreadsheet', 'Microsoft', 'Lotus', '1-2-3', '.xls', '.123', 'kueri', 'Pertanyaan', 'penyegaran', 'Pengembang', 'tercermin', 'kata', 'sandi', 'Cookie', 'pemilik', 'Komisaris', 'liga', 'pengaturan', 'indeks', 'terkandung', 'Papan', '150', 'karakter', '‘', 'tambahkan', 'drop', '’', 'and', 'dagang', 'poin', 'NFL', 'mengonfirmasi', 'menjatuhkan', 'memperdagangkan', 'seperempat', 'henti', 'primer', 'cache', 'sekunder', 'historis', 'Rabu', 'pertengahan', 'musim', 'dirilis', 'RFS', '24/7', 'terutama', 'penganggaran', 'situasi', 'dilaporkan', 'workstation', 'implementasi', 'Ruang', 'Hard', 'Disk', 'Minimum', '400MB', '5.0', '.NET', 'Framework', '1.1', 'Kontrol', 'Web', 'BDW', 'memuat', 'dimuat', 'dimulainya', 'Oktober', 'File', 'uji', 'pendapatan', 'pengeluaran', 'diterimanya', 'dialokasikan', 'pengujian', 'perhitungan', 'proyek', 'PCG', 'Finance', 'Cabang', 'kompleks', 'kabupaten', 'daerah', 'entitas', 'disebutkan', 'HANYA', 'UAS', 'Akses', 'diberi', 'istimewa', 'ENET', 'Securities', 'sisanya', 'diperbaiki', 'Halaman', '800x600', 'Dengan', 'melebihi']\n"
     ]
    }
   ],
   "source": [
    "modelTag = {}\n",
    "modelKata = []\n",
    "for reqs in wordTag:\n",
    "    if reqs[1] in modelTag:\n",
    "        modelTag[reqs[1]] += 1\n",
    "    else:\n",
    "        modelTag[reqs[1]] = 1\n",
    "    if reqs[0] not in modelKata:\n",
    "        modelKata.append(reqs[0])\n",
    "tagMax = max(modelTag, key=lambda reqs:modelTag[reqs])\n",
    "print(modelKata)"
   ]
  },
  {
   "cell_type": "code",
   "execution_count": 15,
   "metadata": {},
   "outputs": [],
   "source": [
    "def findTag(probabilityEmission, reqWords):\n",
    "    tags = []\n",
    "    for word in probabilityEmission:\n",
    "        if reqWords == word[0]:\n",
    "            tags.append(word[1])\n",
    "    return tags"
   ]
  },
  {
   "cell_type": "code",
   "execution_count": 16,
   "metadata": {},
   "outputs": [],
   "source": [
    "def viterbi(probabilityTransition, probabilityEmission, reqWords, tagCount, tagMax, modelKata):\n",
    "    tagSequence = {}\n",
    "    viterbiMat = {}\n",
    "    emissionTable = {}\n",
    "    transitionTable = {}\n",
    "    tagArray = []\n",
    "    temp = {}\n",
    "    \n",
    "    keysEmission = probabilityEmission.keys()\n",
    "    keysTrans = probabilityTransition.keys()\n",
    "    keysCount = tagCount.keys()\n",
    "    \n",
    "    for i in range(len(reqWords)):\n",
    "        if reqWords[i] not in modelKata:\n",
    "            modelKata.append(reqWords[i])\n",
    "            probabilityEmission[(reqWords[i],tagMax)] = 1/tagCount[tagMax]\n",
    "            \n",
    "        tagArray = list(set(tagArray+findTag(probabilityEmission,reqWords[i])))\n",
    "\n",
    "    for tag in tagArray:\n",
    "        if ('<start>',tag) in keysTrans:\n",
    "                transitionTable[('<start>',tag)] = probabilityTrans[('<start>',tag)]\n",
    "        else:\n",
    "            transitionTable[('<start>',tag)] = 0\n",
    "    \n",
    "    for tag1 in tagArray:\n",
    "        for tag2 in tagArray: \n",
    "            if (tag1, tag2) in keysTrans:\n",
    "                transitionTable[(tag1,tag2)] = probabilityTrans[(tag1,tag2)]\n",
    "            else:\n",
    "                transitionTable[(tag1,tag2)] = 0\n",
    "    \n",
    "    for req in reqWords:\n",
    "        for tag in tagArray:\n",
    "            if (req,tag) in probabilityEmission:\n",
    "                emissionTable[(req,tag)] = probabilityEmission[(req,tag)]\n",
    "            else:\n",
    "                emissionTable[(req,tag)] = 0\n",
    "    \n",
    "    for i in range(0,len(reqWords)):\n",
    "        if i==0:\n",
    "            for tag in tagArray:\n",
    "                viterbiMat[(reqWords[i],tag)] = emissionTable[(reqWords[i],tag)]*transitionTable[('<start>',tag)]\n",
    "                tagSequence[(reqWords[i],tag)] = tag\n",
    "        else:\n",
    "            for tag1 in tagArray:\n",
    "                newScore = {}\n",
    "                for tag2 in tagArray:\n",
    "                    newScore[(reqWords[i-1],tag2)] = viterbiMat[(reqWords[i-1],tag2)]*transitionTable[(tag2,tag1)]\n",
    "                max_path = max(newScore, key=lambda k: newScore[k])\n",
    "                viterbiMat[(reqWords[i],tag1)] = newScore[max_path] * emissionTable[(reqWords[i],tag1)]\n",
    "                tagSequence[(reqWords[i],tag1)] = max_path\n",
    "    \n",
    "    last_word = reqWords[len(reqWords)-1]\n",
    "    tagg = tagArray[0]\n",
    "    tags = [tagg]\n",
    "    maximum = viterbiMat[(last_word,tagg)]\n",
    "    for i in range(1,len(tagArray)):\n",
    "        if viterbiMat[(last_word,tagArray[i])] > maximum:\n",
    "            maximum = viterbiMat[(last_word,tagArray[i])]\n",
    "            tags = [tagArray[i]]\n",
    "    for i in range(len(reqWords)-2,-1,-1):\n",
    "        tags.insert(0,tagSequence[(reqWords[i+1],tags[0])][1])\n",
    "    \n",
    "    return tags  "
   ]
  },
  {
   "cell_type": "markdown",
   "metadata": {},
   "source": [
    "## 6. Hasil Pemberian Tag"
   ]
  },
  {
   "cell_type": "code",
   "execution_count": 17,
   "metadata": {},
   "outputs": [
    {
     "name": "stdout",
     "output_type": "stream",
     "text": [
      "0 ['NN', 'VB', 'MD', 'VB', 'NN', 'CC', 'NN', 'IN', 'NN', 'NN', 'IN', 'NN', 'NN']\n",
      "1 ['NN', 'VB', 'MD', 'NN', 'NN', 'NN', 'NN', 'IN', 'NN']\n",
      "2 ['NN', 'NN', 'NN', 'IN', 'NN', 'JJ', 'IN', 'NN', 'NN']\n",
      "3 ['NN', 'NN', 'IN', 'NN', 'NN', 'SC', 'NN', 'NN', 'NN']\n",
      "4 ['NN', 'NN', 'NN', 'IN', 'NN', 'NN', 'NN', 'SC', 'JJ', 'VB']\n",
      "5 ['NN', 'NN', 'VB', 'NN', 'CC', 'Z', 'NN', 'NN', 'NN', 'NN', 'CC', 'CC', 'CC', 'CC', 'CC', 'CC', 'CC', 'CC', 'CC', 'CC', 'CC', 'CC', 'CC', 'CC']\n",
      "6 ['IN', 'CD', 'IN', 'NN', 'Z', 'IN', 'NN', 'Z', 'VB', 'NN', 'NN', 'CC', 'NN', 'NN', 'SC', 'JJ', 'IN', 'NN', 'SC', 'MD', 'VB']\n",
      "7 ['NN', 'NN', 'VB', 'NN', 'CC', 'NN', 'SC', 'JJ', 'IN', 'NN', 'NN', 'CC', 'JJ', 'VB']\n",
      "8 ['IN', 'NN', 'NN', 'SC', 'JJ', 'NN', 'VB', 'NN', 'NN', 'IN', 'NN', 'NN']\n",
      "9 ['SC', 'CC', 'NN', 'NN', 'NN', 'VB', 'NN']\n",
      "10 ['NN', 'NN', 'NN', 'IN', 'NN', 'NN', 'IN', 'CD', 'NN', 'Z', 'NEG', 'MD', 'VB', 'NN', 'NN', 'Z']\n",
      "11 ['NN', 'NN', 'NN', 'NN', 'NN', 'SC', 'NN', 'Z', 'NN', 'NN', 'Z', 'CC', 'NN', 'CC', 'NN', 'VB']\n",
      "12 ['NN', 'MD', 'NN', 'IN', 'NN', 'NN', 'SC', 'NN', 'CC', 'NN']\n",
      "13 ['NN', 'NN', 'IN', 'NN', 'NN', 'CC', 'NN', 'NN']\n",
      "14 ['NN', 'NN', 'IN', 'NN', 'NN']\n",
      "15 ['NN', 'MD', 'VB', 'IN', 'NN', 'NN', 'JJ']\n",
      "16 ['FW', 'NN', 'MD', 'VB', 'IN', 'NN', 'NN', 'JJ', 'Z', 'NN', 'NN', 'NN', 'SC', 'NN', 'NN']\n",
      "17 ['NN', 'NN', 'NN', 'NNP', 'Z', 'SC', 'NN', 'SC', 'VB', 'NNP', 'Z', 'NN', 'NNP', 'NNP', 'SC', 'VB', 'VB', 'NN', 'NN']\n",
      "18 ['NN', 'NN', 'VB', 'NN', 'IN', 'NN', 'NN', 'IN', 'VB']\n",
      "19 ['NN', 'MD', 'VB', 'NN', 'NN', 'NN', 'IN', 'JJ', 'CC', 'JJ', 'VB', 'NN', 'PR']\n",
      "20 ['NN', 'MD', 'VB', 'NN', 'NN', 'IN', 'NN', 'NN', 'IN', 'NN']\n",
      "21 ['IN', 'NN', 'NN', 'PR', 'IN', 'NN', 'NN', 'MD', 'NN', 'VB', 'NN', 'CC', 'NN', 'NN', 'NN', 'CC', 'NN', 'NN', 'NN', 'CC', 'NN', 'NN', 'NN', 'CC', 'NN', 'Z', 'CC', 'NN', 'NN', 'NN', 'NN']\n",
      "22 ['NN', 'VB', 'IN', 'NN', 'NN', 'IN', 'NN', 'NN', 'RB', 'IN', 'NN', 'CC', 'NN', 'SC', 'VB']\n",
      "23 ['NN', 'MD', 'VB', 'NN', 'CC', 'NN', 'SC', 'NN']\n",
      "24 ['NN', 'PR', 'MD', 'VB', 'CC', 'VB', 'NN', 'NN', 'IN', 'NN', 'NN', 'IN', 'NN']\n",
      "25 ['NN', 'PR', 'MD', 'VB', 'NN', 'CC', 'NN', 'VB', 'CC', 'NN', 'NN', 'IN', 'NN']\n",
      "26 ['NN', 'PR', 'MD', 'VB', 'IN', 'NN', 'NN', 'SC', 'VB', 'IN', 'NN']\n",
      "27 ['NN', 'NN', 'NNP', 'SC', 'VB', 'Z', 'NN', 'VB', 'SC', 'VB', 'VB', 'CC', 'NN', 'Z', 'NN', 'NN', 'Z', 'NN', 'NN', 'Z', 'NN', 'NN', 'CC', 'NN', 'JJ', 'CC', 'NN', 'IN', 'NN', 'NN', 'PR', 'VB', 'RB', 'VB', 'SC', 'VB', 'SC', 'MD', 'VB', 'NN']\n",
      "28 ['NN', 'CC', 'NN', 'NN', 'JJ', 'CC', 'NN', 'NN', 'JJ', 'IN', 'NN', 'CC', 'NN', 'NN', 'JJ', 'IN', 'NN']\n",
      "29 ['NN', 'NN', 'NNP', 'SC', 'NN', 'NN', 'NN']\n",
      "30 ['NN', 'NN', 'NN', 'NN', 'MD', 'VB', 'NN', 'NN', 'SC', 'VB', 'IN', 'NN']\n",
      "31 ['NN', 'NN', 'NN', 'NN', 'SC', 'VB', 'NN', 'NN', 'VB', 'NN', 'NN', 'SC', 'NN', 'IN', 'NN']\n",
      "32 ['NN', 'NN', 'NN', 'SC', 'VB', 'CC', 'NN', 'NN', 'CC', 'NN', 'NN', 'NN', 'NN', 'CC', 'NN', 'NN', 'VB']\n",
      "33 ['NN', 'NN', 'NN', 'SC', 'NN', 'NN', 'VB', 'IN', 'PR', 'NN', 'MD', 'IN', 'NN', 'NN', 'NN', 'CC', 'NN', 'MD', 'VB', 'IN', 'NN', 'PR', 'SC', 'NN', 'MD', 'VB', 'IN', 'NN', 'SC', 'NN', 'CC', 'VB', 'IN', 'NN', 'NN']\n",
      "34 ['NN', 'NN', 'NN', 'SC', 'VB', 'RB', 'SC', 'PRP', 'SC', 'SC', 'MD', 'IN', 'NN', 'JJ', 'IN', 'NN', 'PRP', 'SC', 'SC', 'PRP', 'SC', 'MD', 'NN', 'SC', 'JJ', 'CC', 'NN', 'SC', 'MD', 'NN', 'NN', 'NN', 'IN', 'NN', 'NN', 'PR', 'Z', 'NN', 'CD', 'CC', 'NN', 'CC', 'NN', 'SC', 'NN', 'CC', 'NN', 'SC', 'NN']\n",
      "35 ['NN', 'NN', 'NN', 'NN', 'NN', 'VB', 'NN', 'NN', 'VB', 'NN', 'NN', 'IN', 'NN', 'NN', 'NN', 'NN', 'NN', 'VB', 'NN', 'NN', 'NN', 'SC', 'VB', 'IN', 'NN', 'NN', 'VB', 'IN', 'NN', 'NN', 'CC', 'VB', 'NN', 'NN', 'IN', 'NN', 'JJ', 'SC', 'VB', 'NN', 'NN', 'IN', 'NN', 'PRP', 'IN', 'NN', 'PRP', 'SC', 'VB', 'NN', 'CC', 'NN', 'IN', 'NN', 'JJ', 'Z', 'VB', 'NN', 'CC', 'NEG', 'JJ', 'Z', 'CC', 'NEG', 'JJ', 'NN']\n",
      "36 ['NN', 'NN', 'NN', 'NN', 'VB', 'NN', 'NN', 'SC', 'MD', 'VB', 'IN', 'NN', 'VB', 'NN', 'PR']\n",
      "37 ['NN', 'NN', 'Z', 'NN', 'SC', 'NN', 'IN', 'NN']\n"
     ]
    }
   ],
   "source": [
    "viterbiResult = []\n",
    "for reqWords in tokenization:\n",
    "    viterbiReqs = viterbi(probabilityTrans,probabilityEmission,reqWords, tagCount, tagMax, modelKata)\n",
    "    viterbiResult.append(viterbiReqs)\n",
    "\n",
    "for i in range(len(viterbiResult)):\n",
    "    print(i,viterbiResult[i])"
   ]
  },
  {
   "cell_type": "markdown",
   "metadata": {},
   "source": [
    "## 7. Transformasi Data Hasil Tag ke Dokumen"
   ]
  },
  {
   "cell_type": "code",
   "execution_count": 18,
   "metadata": {},
   "outputs": [],
   "source": [
    "saveFile=\"Hasil Tag/Tag \"+inputname+\".txt\"\n",
    "with open(saveFile,\"w+\",encoding='utf-8') as file: \n",
    "    for i in range(len(tokenization)):\n",
    "        file.write(\"<kalimat id=\"+str(i)+\">\"+\"\\n\")\n",
    "        for j in range(len(tokenization[i])):\n",
    "            file.write(tokenization[i][j]+\"\\t\"+viterbiResult[i][j])\n",
    "            file.write(\"\\n\")\n",
    "        file.write(\"</kalimat id=\"+str(i)+\">\"+\"\\n\")\n",
    "file.close()"
   ]
  },
  {
   "cell_type": "markdown",
   "metadata": {},
   "source": [
    "# <center> DETEKSI POLA AMBIGUITAS STRUKTURAL </center>"
   ]
  },
  {
   "cell_type": "markdown",
   "metadata": {},
   "source": [
    "## 1. Import Library NLTK RegexpParser & Pandas"
   ]
  },
  {
   "cell_type": "code",
   "execution_count": 10,
   "metadata": {},
   "outputs": [],
   "source": [
    "import nltk\n",
    "from nltk import RegexpParser\n",
    "import pandas as pd"
   ]
  },
  {
   "cell_type": "markdown",
   "metadata": {},
   "source": [
    "## 2. Import Dokumen Anotasi Pernyataan Kebutuhan Perangkat Lunak"
   ]
  },
  {
   "cell_type": "code",
   "execution_count": 11,
   "metadata": {},
   "outputs": [],
   "source": [
    "def open_file(nameFile):\n",
    "    with open(nameFile, encoding=\"utf-8\") as reqs:\n",
    "        data_reqs = reqs.readlines()\n",
    "    all_reqs = [x.rstrip('\\n') for x in data_reqs]\n",
    "    return all_reqs"
   ]
  },
  {
   "cell_type": "code",
   "execution_count": null,
   "metadata": {},
   "outputs": [],
   "source": [
    "inputreadfile = input()\n",
    "readFile = \"Hasil Tag/Tag \"+inputreadfile+\".txt\"\n",
    "requirements = open_file(readFile)"
   ]
  },
  {
   "cell_type": "markdown",
   "metadata": {},
   "source": [
    "## 3. Sentence Splitting"
   ]
  },
  {
   "cell_type": "code",
   "execution_count": null,
   "metadata": {},
   "outputs": [],
   "source": [
    "sentences= []\n",
    "tags = []\n",
    "kalimat = []\n",
    "index = 0\n",
    "while index < len(requirements):\n",
    "    sent = [] #untuk menampung katanya\n",
    "    kata = []\n",
    "    tag = [] #untuk menampung postag dari tiap kata\n",
    "    while not requirements[index].startswith('</kalimat'): #batas akhir dari kalimat\n",
    "        if  not requirements[index].startswith('<kalimat'):\n",
    "            content_part = requirements[index].split('\\t')\n",
    "            sent.append((content_part[0],content_part[1]))\n",
    "            kata.append(content_part[0])\n",
    "            tag.append(content_part[1])\n",
    "        index = index + 1\n",
    "    sentences.append(sent)\n",
    "    kalimat.append(kata)\n",
    "    tags.append(tag)\n",
    "    index = index+2"
   ]
  },
  {
   "cell_type": "markdown",
   "metadata": {},
   "source": [
    "## 4. Pernyataan Kebutuhan Perangkat Lunak dan Tag-nya"
   ]
  },
  {
   "cell_type": "code",
   "execution_count": null,
   "metadata": {
    "scrolled": true
   },
   "outputs": [],
   "source": [
    "i = 0\n",
    "for sentence in sentences:\n",
    "    print(i,sentence)\n",
    "    i+=1"
   ]
  },
  {
   "cell_type": "markdown",
   "metadata": {},
   "source": [
    "## 5. Analisis Vague Words"
   ]
  },
  {
   "cell_type": "code",
   "execution_count": null,
   "metadata": {},
   "outputs": [],
   "source": [
    "dictionaryAmbiguity = {}\n",
    "vaguefile = open_file('vague words.txt')\n",
    "print(vaguefile)\n",
    "countVague=0\n",
    "for i in range(len(kalimat)):\n",
    "    for kata in kalimat[i]:\n",
    "        if kata in vaguefile:\n",
    "            print(i,kalimat[i],kata)\n",
    "            if i in dictionaryAmbiguity:\n",
    "                dictionaryAmbiguity[i] += ', vague'\n",
    "            else:\n",
    "                dictionaryAmbiguity[i] = 'vague'\n",
    "            countVague+=1\n",
    "print(dictionaryAmbiguity)"
   ]
  },
  {
   "cell_type": "code",
   "execution_count": null,
   "metadata": {
    "scrolled": true
   },
   "outputs": [],
   "source": [
    "# countMUoM = 0\n",
    "# for i in range(len(tags)-1):\n",
    "#     for j in range(len(tags[i])-1):\n",
    "#         if tags[i][j] == 'CD':\n",
    "#             if tags[i][j-1]=='NN': continue\n",
    "#             elif tags[i][j+1]=='NN' or tags[i][j+1]=='SYM':continue\n",
    "#             elif tags[i][j+1] != 'NN' or tags[i][j+1]!='SYM': \n",
    "#                 print(i,sentences[i])\n",
    "#                 if i in dictionaryAmbiguity:\n",
    "#                     dictionaryAmbiguity[i] += ', missing unit measurement'\n",
    "#                 else:\n",
    "#                     dictionaryAmbiguity[i] = 'missing unit measurement'\n",
    "#                 countMUoM+=1\n",
    "#         else: continue\n",
    "# print(dictionaryAmbiguity)"
   ]
  },
  {
   "cell_type": "markdown",
   "metadata": {},
   "source": [
    "## 6. Shallow Parsing"
   ]
  },
  {
   "cell_type": "code",
   "execution_count": null,
   "metadata": {},
   "outputs": [],
   "source": [
    "polaAmbiguity = []\n",
    "pola = \"\"\"\n",
    "analytical:{<NN.*><NN.*><JJ.*>}\n",
    "coordination:{<NN.*><CC><NN.*><JJ>}\n",
    "PPattachment:{<VB><NN.*>*<JJ><IN><NN.*><JJ>}\n",
    "\"\"\"\n",
    "chunk = RegexpParser(pola)\n",
    "for kalimats in sentences:\n",
    "    result = chunk.parse(kalimats)\n",
    "    polaAmbiguity.append(str(result).split(\"\\n\"))"
   ]
  },
  {
   "cell_type": "code",
   "execution_count": null,
   "metadata": {
    "scrolled": true
   },
   "outputs": [],
   "source": [
    "kataAnalytical = \"analytical\"\n",
    "kataPPattachment = \"PPattachment\"\n",
    "kataCoordination = \"coordination\"\n",
    "countAnalytical = 0\n",
    "countCoordination = 0\n",
    "countPPattachment = 0\n",
    "for i in range(len(polaAmbiguity)):\n",
    "    for j in polaAmbiguity[i]:\n",
    "        if (kataAnalytical in j):\n",
    "            print(i,polaAmbiguity[i])\n",
    "            if i in dictionaryAmbiguity:\n",
    "                dictionaryAmbiguity[i] += ', analytical'\n",
    "            else:\n",
    "                dictionaryAmbiguity[i] = 'analytical'\n",
    "            countAnalytical+=1\n",
    "        if (kataCoordination in j):\n",
    "            print(i,polaAmbiguity[i])\n",
    "            if i in dictionaryAmbiguity:\n",
    "                dictionaryAmbiguity[i] += ', coordination'\n",
    "            else:\n",
    "                dictionaryAmbiguity[i] = 'coordination'\n",
    "            countCoordination+=1\n",
    "        if (kataPPattachment in j):\n",
    "            print(i,polaAmbiguity[i])\n",
    "            if i in dictionaryAmbiguity:\n",
    "                dictionaryAmbiguity[i] += ', PPattachment'\n",
    "            else:\n",
    "                dictionaryAmbiguity[i] = 'PPattachment'\n",
    "            countPPattachment+=1\n",
    "print(dictionaryAmbiguity)"
   ]
  },
  {
   "cell_type": "markdown",
   "metadata": {},
   "source": [
    "## 7. Data Hasil Analisis Jenis Ambiguitas"
   ]
  },
  {
   "cell_type": "code",
   "execution_count": null,
   "metadata": {},
   "outputs": [],
   "source": [
    "listSentences = []\n",
    "for i in range(len(sentences)):\n",
    "    if i in dictionaryAmbiguity.keys():\n",
    "        print(i)\n",
    "        listSentences.append((sentences[i],dictionaryAmbiguity[i]))\n",
    "    else:\n",
    "        listSentences.append((sentences[i],'-'))"
   ]
  },
  {
   "cell_type": "code",
   "execution_count": null,
   "metadata": {},
   "outputs": [
    {
     "name": "stdout",
     "output_type": "stream",
     "text": [
      "Jumlah Kata Vague:  0\n",
      "Jumlah Ambiguitas Analitis:  2\n",
      "Jumlah Ambiguitas Corrdination:  2\n",
      "Jumlah Ambiguitas PP Attachment:  0\n",
      "Total Ambiguitas Struktural dalam dokumen:  4\n"
     ]
    }
   ],
   "source": [
    "print(\"Jumlah Kata Vague: \",countVague)\n",
    "# print(\"Jumlah Missing Unit of Measurement: \",countMUoM)\n",
    "print(\"Jumlah Ambiguitas Analitis: \",countAnalytical)\n",
    "print(\"Jumlah Ambiguitas Corrdination: \",countCoordination)\n",
    "print(\"Jumlah Ambiguitas PP Attachment: \",countPPattachment)\n",
    "totalAmbiguitasStruktural = countVague+countAnalytical+countCoordination+countPPattachment\n",
    "print(\"Total Ambiguitas Struktural dalam dokumen: \",totalAmbiguitasStruktural)"
   ]
  },
  {
   "cell_type": "markdown",
   "metadata": {},
   "source": [
    "## 8. Transformasi Data ke Dokumen"
   ]
  },
  {
   "cell_type": "code",
   "execution_count": null,
   "metadata": {},
   "outputs": [
    {
     "data": {
      "text/html": [
       "<div>\n",
       "<style scoped>\n",
       "    .dataframe tbody tr th:only-of-type {\n",
       "        vertical-align: middle;\n",
       "    }\n",
       "\n",
       "    .dataframe tbody tr th {\n",
       "        vertical-align: top;\n",
       "    }\n",
       "\n",
       "    .dataframe thead th {\n",
       "        text-align: right;\n",
       "    }\n",
       "</style>\n",
       "<table border=\"1\" class=\"dataframe\">\n",
       "  <thead>\n",
       "    <tr style=\"text-align: right;\">\n",
       "      <th></th>\n",
       "      <th>Pernyataan Kebutuhan PL</th>\n",
       "      <th>Jenis Ambiguitas</th>\n",
       "    </tr>\n",
       "  </thead>\n",
       "  <tbody>\n",
       "    <tr>\n",
       "      <th>0</th>\n",
       "      <td>[Sistem, dapat, menampilkan, halaman, login, y...</td>\n",
       "      <td>coordination</td>\n",
       "    </tr>\n",
       "    <tr>\n",
       "      <th>1</th>\n",
       "      <td>[Sistem, menampilkan, page, login, ,, dengan, ...</td>\n",
       "      <td>-</td>\n",
       "    </tr>\n",
       "    <tr>\n",
       "      <th>2</th>\n",
       "      <td>[Sistem, menampilkan, page, login, yang, dilen...</td>\n",
       "      <td>-</td>\n",
       "    </tr>\n",
       "    <tr>\n",
       "      <th>3</th>\n",
       "      <td>[Sistem, menampilkan, page, login, hanya, untu...</td>\n",
       "      <td>-</td>\n",
       "    </tr>\n",
       "    <tr>\n",
       "      <th>4</th>\n",
       "      <td>[Sistem, dapat, mencatat, waktu, dan, ip, dari...</td>\n",
       "      <td>-</td>\n",
       "    </tr>\n",
       "    <tr>\n",
       "      <th>5</th>\n",
       "      <td>[Sistem, dapat, mencatat, dan, menyimpan, ke, ...</td>\n",
       "      <td>-</td>\n",
       "    </tr>\n",
       "    <tr>\n",
       "      <th>6</th>\n",
       "      <td>[Sistem, dapat, mencatat, dan, menyimpan, wakt...</td>\n",
       "      <td>-</td>\n",
       "    </tr>\n",
       "    <tr>\n",
       "      <th>7</th>\n",
       "      <td>[Sistem, dapat, mencatat, dan, menyimpan, wakt...</td>\n",
       "      <td>-</td>\n",
       "    </tr>\n",
       "    <tr>\n",
       "      <th>8</th>\n",
       "      <td>[Sistem, dapat, mencatat, dan, menyimpan, tota...</td>\n",
       "      <td>-</td>\n",
       "    </tr>\n",
       "    <tr>\n",
       "      <th>9</th>\n",
       "      <td>[Sistem, dapat, menampilkan, pesan, kesalahan,...</td>\n",
       "      <td>analytical</td>\n",
       "    </tr>\n",
       "    <tr>\n",
       "      <th>10</th>\n",
       "      <td>[Sistem, dapat, menampilkan, kesalahan, jika, ...</td>\n",
       "      <td>-</td>\n",
       "    </tr>\n",
       "    <tr>\n",
       "      <th>11</th>\n",
       "      <td>[Sistem, dapat, menampilkan, kesalahan, jika, ...</td>\n",
       "      <td>-</td>\n",
       "    </tr>\n",
       "    <tr>\n",
       "      <th>12</th>\n",
       "      <td>[Sistem, akan, menutup, secara, otomatis, jika...</td>\n",
       "      <td>coordination</td>\n",
       "    </tr>\n",
       "    <tr>\n",
       "      <th>13</th>\n",
       "      <td>[Sistem, dapat, menampilkan, data, login, untu...</td>\n",
       "      <td>-</td>\n",
       "    </tr>\n",
       "    <tr>\n",
       "      <th>14</th>\n",
       "      <td>[Sistem, dapat, menampilkan, halaman, awal, se...</td>\n",
       "      <td>analytical</td>\n",
       "    </tr>\n",
       "    <tr>\n",
       "      <th>15</th>\n",
       "      <td>[Sistem, dapat, menampilkan, form, untuk, peng...</td>\n",
       "      <td>-</td>\n",
       "    </tr>\n",
       "    <tr>\n",
       "      <th>16</th>\n",
       "      <td>[Sistem, ini, akan, berjalan, menggunakan, web...</td>\n",
       "      <td>-</td>\n",
       "    </tr>\n",
       "    <tr>\n",
       "      <th>17</th>\n",
       "      <td>[Sistem, ini, membutuhkan, inputan, jumlah, ta...</td>\n",
       "      <td>-</td>\n",
       "    </tr>\n",
       "    <tr>\n",
       "      <th>18</th>\n",
       "      <td>[Sistem, tidak, digunakan, untuk, melakukakn, ...</td>\n",
       "      <td>-</td>\n",
       "    </tr>\n",
       "  </tbody>\n",
       "</table>\n",
       "</div>"
      ],
      "text/plain": [
       "                              Pernyataan Kebutuhan PL Jenis Ambiguitas\n",
       "0   [Sistem, dapat, menampilkan, halaman, login, y...     coordination\n",
       "1   [Sistem, menampilkan, page, login, ,, dengan, ...                -\n",
       "2   [Sistem, menampilkan, page, login, yang, dilen...                -\n",
       "3   [Sistem, menampilkan, page, login, hanya, untu...                -\n",
       "4   [Sistem, dapat, mencatat, waktu, dan, ip, dari...                -\n",
       "5   [Sistem, dapat, mencatat, dan, menyimpan, ke, ...                -\n",
       "6   [Sistem, dapat, mencatat, dan, menyimpan, wakt...                -\n",
       "7   [Sistem, dapat, mencatat, dan, menyimpan, wakt...                -\n",
       "8   [Sistem, dapat, mencatat, dan, menyimpan, tota...                -\n",
       "9   [Sistem, dapat, menampilkan, pesan, kesalahan,...       analytical\n",
       "10  [Sistem, dapat, menampilkan, kesalahan, jika, ...                -\n",
       "11  [Sistem, dapat, menampilkan, kesalahan, jika, ...                -\n",
       "12  [Sistem, akan, menutup, secara, otomatis, jika...     coordination\n",
       "13  [Sistem, dapat, menampilkan, data, login, untu...                -\n",
       "14  [Sistem, dapat, menampilkan, halaman, awal, se...       analytical\n",
       "15  [Sistem, dapat, menampilkan, form, untuk, peng...                -\n",
       "16  [Sistem, ini, akan, berjalan, menggunakan, web...                -\n",
       "17  [Sistem, ini, membutuhkan, inputan, jumlah, ta...                -\n",
       "18  [Sistem, tidak, digunakan, untuk, melakukakn, ...                -"
      ]
     },
     "execution_count": 14,
     "metadata": {},
     "output_type": "execute_result"
    }
   ],
   "source": [
    "raw_data = {\n",
    "            'Pernyataan Kebutuhan PL': [kalimat[i] for i in range(len(kalimat))],\n",
    "            'Urutan Tag Kebutuhan PL': [tags[i] for i in range(len(tags))],\n",
    "            'Jenis Ambiguitas': [listSentences[i][1] for i in range(len(listSentences))]\n",
    "            }\n",
    "df = pd.DataFrame(raw_data,columns=['Pernyataan Kebutuhan PL','Urutan Tag Kebutuhan PL','Jenis Ambiguitas'])\n",
    "fileHasilAnalisis=\"Hasil Analisis/Analisis \"+inputreadfile+\".csv\"\n",
    "df.to_csv(fileHasilAnalisis,encoding='utf-8')\n",
    "df"
   ]
  }
 ],
 "metadata": {
  "kernelspec": {
   "display_name": "Python 3 (ipykernel)",
   "language": "python",
   "name": "python3"
  },
  "language_info": {
   "codemirror_mode": {
    "name": "ipython",
    "version": 3
   },
   "file_extension": ".py",
   "mimetype": "text/x-python",
   "name": "python",
   "nbconvert_exporter": "python",
   "pygments_lexer": "ipython3",
   "version": "3.9.12"
  }
 },
 "nbformat": 4,
 "nbformat_minor": 4
}
