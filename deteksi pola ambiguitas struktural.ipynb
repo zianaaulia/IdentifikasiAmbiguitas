{
 "cells": [
  {
   "cell_type": "markdown",
   "metadata": {},
   "source": [
    "# <center> DETEKSI POLA AMBIGUITAS STRUKTURAL </center>"
   ]
  },
  {
   "cell_type": "markdown",
   "metadata": {},
   "source": [
    "## 1. Import Library NLTK RegexpParser & Pandas"
   ]
  },
  {
   "cell_type": "code",
   "execution_count": 10,
   "metadata": {},
   "outputs": [],
   "source": [
    "import nltk\n",
    "from nltk import RegexpParser\n",
    "import pandas as pd"
   ]
  },
  {
   "cell_type": "markdown",
   "metadata": {},
   "source": [
    "## 2. Import Dokumen Anotasi Pernyataan Kebutuhan Perangkat Lunak"
   ]
  },
  {
   "cell_type": "code",
   "execution_count": 11,
   "metadata": {},
   "outputs": [],
   "source": [
    "def open_file(nameFile):\n",
    "    with open(nameFile, encoding=\"utf-8\") as reqs:\n",
    "        data_reqs = reqs.readlines()\n",
    "    all_reqs = [x.rstrip('\\n') for x in data_reqs]\n",
    "    return all_reqs"
   ]
  },
  {
   "cell_type": "code",
   "execution_count": null,
   "metadata": {},
   "outputs": [],
   "source": [
    "inputreadfile = input()\n",
    "readFile = \"Hasil Tag/Tag \"+inputreadfile+\".txt\"\n",
    "requirements = open_file(readFile)"
   ]
  },
  {
   "cell_type": "markdown",
   "metadata": {},
   "source": [
    "## 3. Sentence Splitting"
   ]
  },
  {
   "cell_type": "code",
   "execution_count": null,
   "metadata": {},
   "outputs": [],
   "source": [
    "sentences= []\n",
    "tags = []\n",
    "kalimat = []\n",
    "index = 0\n",
    "while index < len(requirements):\n",
    "    sent = [] #untuk menampung katanya\n",
    "    kata = []\n",
    "    tag = [] #untuk menampung postag dari tiap kata\n",
    "    while not requirements[index].startswith('</kalimat'): #batas akhir dari kalimat\n",
    "        if  not requirements[index].startswith('<kalimat'):\n",
    "            content_part = requirements[index].split('\\t')\n",
    "            sent.append((content_part[0],content_part[1]))\n",
    "            kata.append(content_part[0])\n",
    "            tag.append(content_part[1])\n",
    "        index = index + 1\n",
    "    sentences.append(sent)\n",
    "    kalimat.append(kata)\n",
    "    tags.append(tag)\n",
    "    index = index+2"
   ]
  },
  {
   "cell_type": "markdown",
   "metadata": {},
   "source": [
    "## 4. Pernyataan Kebutuhan Perangkat Lunak dan Tag-nya"
   ]
  },
  {
   "cell_type": "code",
   "execution_count": null,
   "metadata": {
    "scrolled": true
   },
   "outputs": [],
   "source": [
    "i = 0\n",
    "for sentence in sentences:\n",
    "    print(i,sentence)\n",
    "    i+=1"
   ]
  },
  {
   "cell_type": "markdown",
   "metadata": {},
   "source": [
    "## 5. Analisis Vague Words"
   ]
  },
  {
   "cell_type": "code",
   "execution_count": null,
   "metadata": {},
   "outputs": [],
   "source": [
    "dictionaryAmbiguity = {}\n",
    "vaguefile = open_file('vague words.txt')\n",
    "print(vaguefile)\n",
    "countVague=0\n",
    "for i in range(len(kalimat)):\n",
    "    for kata in kalimat[i]:\n",
    "        if kata in vaguefile:\n",
    "            print(i,kalimat[i],kata)\n",
    "            if i in dictionaryAmbiguity:\n",
    "                dictionaryAmbiguity[i] += ', vague'\n",
    "            else:\n",
    "                dictionaryAmbiguity[i] = 'vague'\n",
    "            countVague+=1\n",
    "print(dictionaryAmbiguity)"
   ]
  },
  {
   "cell_type": "code",
   "execution_count": null,
   "metadata": {
    "scrolled": true
   },
   "outputs": [],
   "source": [
    "# countMUoM = 0\n",
    "# for i in range(len(tags)-1):\n",
    "#     for j in range(len(tags[i])-1):\n",
    "#         if tags[i][j] == 'CD':\n",
    "#             if tags[i][j-1]=='NN': continue\n",
    "#             elif tags[i][j+1]=='NN' or tags[i][j+1]=='SYM':continue\n",
    "#             elif tags[i][j+1] != 'NN' or tags[i][j+1]!='SYM': \n",
    "#                 print(i,sentences[i])\n",
    "#                 if i in dictionaryAmbiguity:\n",
    "#                     dictionaryAmbiguity[i] += ', missing unit measurement'\n",
    "#                 else:\n",
    "#                     dictionaryAmbiguity[i] = 'missing unit measurement'\n",
    "#                 countMUoM+=1\n",
    "#         else: continue\n",
    "# print(dictionaryAmbiguity)"
   ]
  },
  {
   "cell_type": "markdown",
   "metadata": {},
   "source": [
    "## 6. Shallow Parsing"
   ]
  },
  {
   "cell_type": "code",
   "execution_count": null,
   "metadata": {},
   "outputs": [],
   "source": [
    "polaAmbiguity = []\n",
    "pola = \"\"\"\n",
    "analytical:{<NN.*><NN.*><JJ.*>}\n",
    "coordination:{<NN.*><CC><NN.*><JJ>}\n",
    "PPattachment:{<VB><NN.*>*<JJ><IN><NN.*><JJ>}\n",
    "\"\"\"\n",
    "chunk = RegexpParser(pola)\n",
    "for kalimats in sentences:\n",
    "    result = chunk.parse(kalimats)\n",
    "    polaAmbiguity.append(str(result).split(\"\\n\"))"
   ]
  },
  {
   "cell_type": "code",
   "execution_count": null,
   "metadata": {
    "scrolled": true
   },
   "outputs": [],
   "source": [
    "kataAnalytical = \"analytical\"\n",
    "kataPPattachment = \"PPattachment\"\n",
    "kataCoordination = \"coordination\"\n",
    "countAnalytical = 0\n",
    "countCoordination = 0\n",
    "countPPattachment = 0\n",
    "for i in range(len(polaAmbiguity)):\n",
    "    for j in polaAmbiguity[i]:\n",
    "        if (kataAnalytical in j):\n",
    "            print(i,polaAmbiguity[i])\n",
    "            if i in dictionaryAmbiguity:\n",
    "                dictionaryAmbiguity[i] += ', analytical'\n",
    "            else:\n",
    "                dictionaryAmbiguity[i] = 'analytical'\n",
    "            countAnalytical+=1\n",
    "        if (kataCoordination in j):\n",
    "            print(i,polaAmbiguity[i])\n",
    "            if i in dictionaryAmbiguity:\n",
    "                dictionaryAmbiguity[i] += ', coordination'\n",
    "            else:\n",
    "                dictionaryAmbiguity[i] = 'coordination'\n",
    "            countCoordination+=1\n",
    "        if (kataPPattachment in j):\n",
    "            print(i,polaAmbiguity[i])\n",
    "            if i in dictionaryAmbiguity:\n",
    "                dictionaryAmbiguity[i] += ', PPattachment'\n",
    "            else:\n",
    "                dictionaryAmbiguity[i] = 'PPattachment'\n",
    "            countPPattachment+=1\n",
    "print(dictionaryAmbiguity)"
   ]
  },
  {
   "cell_type": "markdown",
   "metadata": {},
   "source": [
    "## 7. Data Hasil Analisis Jenis Ambiguitas"
   ]
  },
  {
   "cell_type": "code",
   "execution_count": null,
   "metadata": {},
   "outputs": [],
   "source": [
    "listSentences = []\n",
    "for i in range(len(sentences)):\n",
    "    if i in dictionaryAmbiguity.keys():\n",
    "        print(i)\n",
    "        listSentences.append((sentences[i],dictionaryAmbiguity[i]))\n",
    "    else:\n",
    "        listSentences.append((sentences[i],'-'))"
   ]
  },
  {
   "cell_type": "code",
   "execution_count": null,
   "metadata": {},
   "outputs": [
    {
     "name": "stdout",
     "output_type": "stream",
     "text": [
      "Jumlah Kata Vague:  0\n",
      "Jumlah Ambiguitas Analitis:  2\n",
      "Jumlah Ambiguitas Corrdination:  2\n",
      "Jumlah Ambiguitas PP Attachment:  0\n",
      "Total Ambiguitas Struktural dalam dokumen:  4\n"
     ]
    }
   ],
   "source": [
    "print(\"Jumlah Kata Vague: \",countVague)\n",
    "# print(\"Jumlah Missing Unit of Measurement: \",countMUoM)\n",
    "print(\"Jumlah Ambiguitas Analitis: \",countAnalytical)\n",
    "print(\"Jumlah Ambiguitas Corrdination: \",countCoordination)\n",
    "print(\"Jumlah Ambiguitas PP Attachment: \",countPPattachment)\n",
    "totalAmbiguitasStruktural = countVague+countAnalytical+countCoordination+countPPattachment\n",
    "print(\"Total Ambiguitas Struktural dalam dokumen: \",totalAmbiguitasStruktural)"
   ]
  },
  {
   "cell_type": "markdown",
   "metadata": {},
   "source": [
    "## 8. Transformasi Data ke Dokumen"
   ]
  },
  {
   "cell_type": "code",
   "execution_count": null,
   "metadata": {},
   "outputs": [
    {
     "data": {
      "text/html": [
       "<div>\n",
       "<style scoped>\n",
       "    .dataframe tbody tr th:only-of-type {\n",
       "        vertical-align: middle;\n",
       "    }\n",
       "\n",
       "    .dataframe tbody tr th {\n",
       "        vertical-align: top;\n",
       "    }\n",
       "\n",
       "    .dataframe thead th {\n",
       "        text-align: right;\n",
       "    }\n",
       "</style>\n",
       "<table border=\"1\" class=\"dataframe\">\n",
       "  <thead>\n",
       "    <tr style=\"text-align: right;\">\n",
       "      <th></th>\n",
       "      <th>Pernyataan Kebutuhan PL</th>\n",
       "      <th>Jenis Ambiguitas</th>\n",
       "    </tr>\n",
       "  </thead>\n",
       "  <tbody>\n",
       "    <tr>\n",
       "      <th>0</th>\n",
       "      <td>[Sistem, dapat, menampilkan, halaman, login, y...</td>\n",
       "      <td>coordination</td>\n",
       "    </tr>\n",
       "    <tr>\n",
       "      <th>1</th>\n",
       "      <td>[Sistem, menampilkan, page, login, ,, dengan, ...</td>\n",
       "      <td>-</td>\n",
       "    </tr>\n",
       "    <tr>\n",
       "      <th>2</th>\n",
       "      <td>[Sistem, menampilkan, page, login, yang, dilen...</td>\n",
       "      <td>-</td>\n",
       "    </tr>\n",
       "    <tr>\n",
       "      <th>3</th>\n",
       "      <td>[Sistem, menampilkan, page, login, hanya, untu...</td>\n",
       "      <td>-</td>\n",
       "    </tr>\n",
       "    <tr>\n",
       "      <th>4</th>\n",
       "      <td>[Sistem, dapat, mencatat, waktu, dan, ip, dari...</td>\n",
       "      <td>-</td>\n",
       "    </tr>\n",
       "    <tr>\n",
       "      <th>5</th>\n",
       "      <td>[Sistem, dapat, mencatat, dan, menyimpan, ke, ...</td>\n",
       "      <td>-</td>\n",
       "    </tr>\n",
       "    <tr>\n",
       "      <th>6</th>\n",
       "      <td>[Sistem, dapat, mencatat, dan, menyimpan, wakt...</td>\n",
       "      <td>-</td>\n",
       "    </tr>\n",
       "    <tr>\n",
       "      <th>7</th>\n",
       "      <td>[Sistem, dapat, mencatat, dan, menyimpan, wakt...</td>\n",
       "      <td>-</td>\n",
       "    </tr>\n",
       "    <tr>\n",
       "      <th>8</th>\n",
       "      <td>[Sistem, dapat, mencatat, dan, menyimpan, tota...</td>\n",
       "      <td>-</td>\n",
       "    </tr>\n",
       "    <tr>\n",
       "      <th>9</th>\n",
       "      <td>[Sistem, dapat, menampilkan, pesan, kesalahan,...</td>\n",
       "      <td>analytical</td>\n",
       "    </tr>\n",
       "    <tr>\n",
       "      <th>10</th>\n",
       "      <td>[Sistem, dapat, menampilkan, kesalahan, jika, ...</td>\n",
       "      <td>-</td>\n",
       "    </tr>\n",
       "    <tr>\n",
       "      <th>11</th>\n",
       "      <td>[Sistem, dapat, menampilkan, kesalahan, jika, ...</td>\n",
       "      <td>-</td>\n",
       "    </tr>\n",
       "    <tr>\n",
       "      <th>12</th>\n",
       "      <td>[Sistem, akan, menutup, secara, otomatis, jika...</td>\n",
       "      <td>coordination</td>\n",
       "    </tr>\n",
       "    <tr>\n",
       "      <th>13</th>\n",
       "      <td>[Sistem, dapat, menampilkan, data, login, untu...</td>\n",
       "      <td>-</td>\n",
       "    </tr>\n",
       "    <tr>\n",
       "      <th>14</th>\n",
       "      <td>[Sistem, dapat, menampilkan, halaman, awal, se...</td>\n",
       "      <td>analytical</td>\n",
       "    </tr>\n",
       "    <tr>\n",
       "      <th>15</th>\n",
       "      <td>[Sistem, dapat, menampilkan, form, untuk, peng...</td>\n",
       "      <td>-</td>\n",
       "    </tr>\n",
       "    <tr>\n",
       "      <th>16</th>\n",
       "      <td>[Sistem, ini, akan, berjalan, menggunakan, web...</td>\n",
       "      <td>-</td>\n",
       "    </tr>\n",
       "    <tr>\n",
       "      <th>17</th>\n",
       "      <td>[Sistem, ini, membutuhkan, inputan, jumlah, ta...</td>\n",
       "      <td>-</td>\n",
       "    </tr>\n",
       "    <tr>\n",
       "      <th>18</th>\n",
       "      <td>[Sistem, tidak, digunakan, untuk, melakukakn, ...</td>\n",
       "      <td>-</td>\n",
       "    </tr>\n",
       "  </tbody>\n",
       "</table>\n",
       "</div>"
      ],
      "text/plain": [
       "                              Pernyataan Kebutuhan PL Jenis Ambiguitas\n",
       "0   [Sistem, dapat, menampilkan, halaman, login, y...     coordination\n",
       "1   [Sistem, menampilkan, page, login, ,, dengan, ...                -\n",
       "2   [Sistem, menampilkan, page, login, yang, dilen...                -\n",
       "3   [Sistem, menampilkan, page, login, hanya, untu...                -\n",
       "4   [Sistem, dapat, mencatat, waktu, dan, ip, dari...                -\n",
       "5   [Sistem, dapat, mencatat, dan, menyimpan, ke, ...                -\n",
       "6   [Sistem, dapat, mencatat, dan, menyimpan, wakt...                -\n",
       "7   [Sistem, dapat, mencatat, dan, menyimpan, wakt...                -\n",
       "8   [Sistem, dapat, mencatat, dan, menyimpan, tota...                -\n",
       "9   [Sistem, dapat, menampilkan, pesan, kesalahan,...       analytical\n",
       "10  [Sistem, dapat, menampilkan, kesalahan, jika, ...                -\n",
       "11  [Sistem, dapat, menampilkan, kesalahan, jika, ...                -\n",
       "12  [Sistem, akan, menutup, secara, otomatis, jika...     coordination\n",
       "13  [Sistem, dapat, menampilkan, data, login, untu...                -\n",
       "14  [Sistem, dapat, menampilkan, halaman, awal, se...       analytical\n",
       "15  [Sistem, dapat, menampilkan, form, untuk, peng...                -\n",
       "16  [Sistem, ini, akan, berjalan, menggunakan, web...                -\n",
       "17  [Sistem, ini, membutuhkan, inputan, jumlah, ta...                -\n",
       "18  [Sistem, tidak, digunakan, untuk, melakukakn, ...                -"
      ]
     },
     "execution_count": 14,
     "metadata": {},
     "output_type": "execute_result"
    }
   ],
   "source": [
    "raw_data = {\n",
    "            'Pernyataan Kebutuhan PL': [kalimat[i] for i in range(len(kalimat))],\n",
    "            'Urutan Tag Kebutuhan PL': [tags[i] for i in range(len(tags))],\n",
    "            'Jenis Ambiguitas': [listSentences[i][1] for i in range(len(listSentences))]\n",
    "            }\n",
    "df = pd.DataFrame(raw_data,columns=['Pernyataan Kebutuhan PL','Urutan Tag Kebutuhan PL','Jenis Ambiguitas'])\n",
    "fileHasilAnalisis=\"Hasil Analisis/Analisis \"+inputreadfile+\".csv\"\n",
    "df.to_csv(fileHasilAnalisis,encoding='utf-8')\n",
    "df"
   ]
  },
  {
   "cell_type": "code",
   "execution_count": null,
   "metadata": {},
   "outputs": [],
   "source": []
  }
 ],
 "metadata": {
  "kernelspec": {
   "display_name": "Python 3 (ipykernel)",
   "language": "python",
   "name": "python3"
  },
  "language_info": {
   "codemirror_mode": {
    "name": "ipython",
    "version": 3
   },
   "file_extension": ".py",
   "mimetype": "text/x-python",
   "name": "python",
   "nbconvert_exporter": "python",
   "pygments_lexer": "ipython3",
   "version": "3.9.12"
  }
 },
 "nbformat": 4,
 "nbformat_minor": 4
}
